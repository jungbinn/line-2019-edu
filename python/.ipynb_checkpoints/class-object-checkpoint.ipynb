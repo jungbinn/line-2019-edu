{
 "cells": [
  {
   "cell_type": "markdown",
   "metadata": {},
   "source": [
    "# 클래스와 인스턴스\n",
    "\n",
    "## 객체 지향 프로그래밍\n",
    "\n",
    "- 객체와 클래스를 기반으로 작성하는 프로그래밍 방법론\n",
    "- 유지보수가 상대적으로 쉽고, 복잡도가 큰 프로그램을 작성할 수 있어서 많이 사용된다"
   ]
  },
  {
   "cell_type": "markdown",
   "metadata": {},
   "source": [
    "\n",
    "\n",
    "## 클래스\n",
    "\n",
    "- 객체를 생성할 때 사용\n",
    "- 상태와 행동을 가진다.\n",
    "- 상태 = 변수\n",
    "- 행동 = 메소드"
   ]
  },
  {
   "cell_type": "markdown",
   "metadata": {},
   "source": [
    "### 생성자 \n",
    "클래스로부터 인스턴스를 생성할 때 자동으로 실행되는 특별한 메소드 \n"
   ]
  },
  {
   "cell_type": "code",
   "execution_count": 1,
   "metadata": {},
   "outputs": [],
   "source": [
    "class Animal():\n",
    "    def __init__(self, name):\n",
    "        self.name = name\n",
    "        print(\"{} 초기화 완료\".format(self.name))"
   ]
  },
  {
   "cell_type": "markdown",
   "metadata": {},
   "source": [
    "## 인스턴스 (객체)\n",
    "\n",
    "- 상태(변수)와 행동(메소드)를 가진 데이터 꾸러미\n",
    "- 다른 객체와 메시지(메소드)를 주고 받으며 우리가 원하는 로직을 실행\n",
    "- 객체 지향 프로그래밍의 근간이 되는 개념\n",
    "- 거대한 프로그램을 쉽게 짤 수 있게 해 준다."
   ]
  },
  {
   "cell_type": "code",
   "execution_count": 2,
   "metadata": {},
   "outputs": [
    {
     "name": "stdout",
     "output_type": "stream",
     "text": [
      "스누피 초기화 완료\n",
      "둘리 초기화 완료\n"
     ]
    }
   ],
   "source": [
    "a1 = Animal(\"스누피\")\n",
    "a2 = Animal(\"둘리\")"
   ]
  },
  {
   "cell_type": "markdown",
   "metadata": {},
   "source": [
    "### 메소드 추가하기 \n",
    "\n",
    "- `eat()`, `move()`를 추가하자. "
   ]
  },
  {
   "cell_type": "code",
   "execution_count": 3,
   "metadata": {},
   "outputs": [],
   "source": [
    "class Animal():\n",
    "    num = 0\n",
    "    def __init__(self, name, w):\n",
    "        Animal.num += 1\n",
    "        self.name = name\n",
    "        self.w = w\n",
    "        print(\"{} 초기화 완료\".format(self.name))\n",
    "    \n",
    "    def eat(self, food):\n",
    "        print(\"{}는 {}를 먹습니다.\".format(self.name, food))\n",
    "        self.w += 5\n",
    "        \n",
    "    def __str__(self):\n",
    "        return \"{}:{}\".format(self.name, self.w)\n",
    "    \n",
    "    def __add__(self, other):\n",
    "        print(\"{}와 {}가 결혼!\".format(self.name, other.name))"
   ]
  },
  {
   "cell_type": "code",
   "execution_count": 4,
   "metadata": {},
   "outputs": [
    {
     "name": "stdout",
     "output_type": "stream",
     "text": [
      "스누피 초기화 완료\n"
     ]
    },
    {
     "data": {
      "text/plain": [
       "1"
      ]
     },
     "execution_count": 4,
     "metadata": {},
     "output_type": "execute_result"
    }
   ],
   "source": [
    "Animal.num\n",
    "a1 = Animal(\"스누피\", 40)\n",
    "Animal.num\n"
   ]
  },
  {
   "cell_type": "code",
   "execution_count": 5,
   "metadata": {},
   "outputs": [
    {
     "name": "stdout",
     "output_type": "stream",
     "text": [
      "스누피 초기화 완료\n",
      "둘리 초기화 완료\n",
      "스누피는 족발를 먹습니다.\n"
     ]
    },
    {
     "data": {
      "text/plain": [
       "3"
      ]
     },
     "execution_count": 5,
     "metadata": {},
     "output_type": "execute_result"
    }
   ],
   "source": [
    "a1 = Animal(\"스누피\", 40)\n",
    "a2 = Animal(\"둘리\", 75)\n",
    "a1.eat(\"족발\")\n",
    "a1.w\n",
    "Animal.num"
   ]
  },
  {
   "cell_type": "markdown",
   "metadata": {},
   "source": [
    "### 특별한 메소드\n",
    "- `__str__()` 사용해 보기\n",
    "- `__add__()` 사용해 보기"
   ]
  },
  {
   "cell_type": "code",
   "execution_count": 6,
   "metadata": {},
   "outputs": [
    {
     "name": "stdout",
     "output_type": "stream",
     "text": [
      "스누피:45\n",
      "둘리:75\n",
      "스누피와 둘리가 결혼!\n"
     ]
    }
   ],
   "source": [
    "print(a1)\n",
    "print(a2)\n",
    "a1 + a2"
   ]
  },
  {
   "cell_type": "markdown",
   "metadata": {},
   "source": [
    "### 멤버 변수\n",
    "\n",
    "- 클래스 변수\n",
    "- 인스턴스 변수"
   ]
  },
  {
   "cell_type": "code",
   "execution_count": null,
   "metadata": {},
   "outputs": [],
   "source": [
    "# Animal.number 추가\n",
    "# self.weight 추가  "
   ]
  },
  {
   "cell_type": "markdown",
   "metadata": {
    "collapsed": true
   },
   "source": [
    "## 상속\n",
    "\n",
    "- 객체 지향 프로그래밍에서 중요하고 유용한 개념\n",
    "- 유연한 프로그래밍을 가능하게 해 준다. "
   ]
  },
  {
   "cell_type": "markdown",
   "metadata": {},
   "source": [
    "### People 클래스 생성 \n",
    "- Animal 클래스 상속으로 People 클래스를 만들어 보자. "
   ]
  },
  {
   "cell_type": "code",
   "execution_count": 7,
   "metadata": {},
   "outputs": [],
   "source": [
    "class People(Animal):\n",
    "    def earn(self, money):\n",
    "        print(\"{} 원 벌었습니다.\".format(money))"
   ]
  },
  {
   "cell_type": "code",
   "execution_count": 8,
   "metadata": {},
   "outputs": [
    {
     "name": "stdout",
     "output_type": "stream",
     "text": [
      "고길동 초기화 완료\n"
     ]
    }
   ],
   "source": [
    "p = People(\"고길동\", 80)"
   ]
  },
  {
   "cell_type": "code",
   "execution_count": 9,
   "metadata": {},
   "outputs": [
    {
     "name": "stdout",
     "output_type": "stream",
     "text": [
      "500 원 벌었습니다.\n"
     ]
    }
   ],
   "source": [
    "p.earn(500)"
   ]
  },
  {
   "cell_type": "code",
   "execution_count": 10,
   "metadata": {},
   "outputs": [
    {
     "name": "stdout",
     "output_type": "stream",
     "text": [
      "고길동는 도넛를 먹습니다.\n"
     ]
    }
   ],
   "source": [
    "p.eat('도넛')"
   ]
  },
  {
   "cell_type": "code",
   "execution_count": 11,
   "metadata": {},
   "outputs": [
    {
     "data": {
      "text/plain": [
       "4"
      ]
     },
     "execution_count": 11,
     "metadata": {},
     "output_type": "execute_result"
    }
   ],
   "source": [
    "Animal.num"
   ]
  },
  {
   "cell_type": "code",
   "execution_count": null,
   "metadata": {},
   "outputs": [],
   "source": []
  }
 ],
 "metadata": {
  "kernelspec": {
   "display_name": "Python 3",
   "language": "python",
   "name": "python3"
  },
  "language_info": {
   "codemirror_mode": {
    "name": "ipython",
    "version": 3
   },
   "file_extension": ".py",
   "mimetype": "text/x-python",
   "name": "python",
   "nbconvert_exporter": "python",
   "pygments_lexer": "ipython3",
   "version": "3.7.2"
  }
 },
 "nbformat": 4,
 "nbformat_minor": 2
}

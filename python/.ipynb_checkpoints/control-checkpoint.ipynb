{
 "cells": [
  {
   "cell_type": "markdown",
   "metadata": {},
   "source": [
    "# 제어문 \n",
    "\n",
    "## 불리언 타입과 비교 연산자\n",
    "\n",
    "- `>, <, ==` 등의 비교 연산자 사용해 보기"
   ]
  },
  {
   "cell_type": "code",
   "execution_count": 1,
   "metadata": {},
   "outputs": [
    {
     "data": {
      "text/plain": [
       "True"
      ]
     },
     "execution_count": 1,
     "metadata": {},
     "output_type": "execute_result"
    }
   ],
   "source": [
    "5 > 3 "
   ]
  },
  {
   "cell_type": "code",
   "execution_count": 2,
   "metadata": {},
   "outputs": [
    {
     "data": {
      "text/plain": [
       "False"
      ]
     },
     "execution_count": 2,
     "metadata": {},
     "output_type": "execute_result"
    }
   ],
   "source": [
    "3 > 3 "
   ]
  },
  {
   "cell_type": "code",
   "execution_count": 4,
   "metadata": {},
   "outputs": [
    {
     "data": {
      "text/plain": [
       "5"
      ]
     },
     "execution_count": 4,
     "metadata": {},
     "output_type": "execute_result"
    }
   ],
   "source": [
    "# = 은 대입을 위해 사용되는 대입 연산자 \n",
    "a = 5\n",
    "a"
   ]
  },
  {
   "cell_type": "code",
   "execution_count": 5,
   "metadata": {},
   "outputs": [
    {
     "data": {
      "text/plain": [
       "False"
      ]
     },
     "execution_count": 5,
     "metadata": {},
     "output_type": "execute_result"
    }
   ],
   "source": [
    "# == 은 비교를 위해 사용되는 동등 연산자 \n",
    "a == 10"
   ]
  },
  {
   "cell_type": "markdown",
   "metadata": {},
   "source": [
    "## 조건문\n",
    "\n",
    "- 반복문과 더불어 프로그래밍의 기본이 되는 제어문의 일종 "
   ]
  },
  {
   "cell_type": "code",
   "execution_count": 6,
   "metadata": {},
   "outputs": [
    {
     "name": "stdout",
     "output_type": "stream",
     "text": [
      "cond1 is True\n"
     ]
    }
   ],
   "source": [
    "cond1 = True\n",
    "if cond1:\n",
    "    print(\"cond1 is True\")"
   ]
  },
  {
   "cell_type": "code",
   "execution_count": 8,
   "metadata": {},
   "outputs": [
    {
     "name": "stdout",
     "output_type": "stream",
     "text": [
      "cond1 is False\n"
     ]
    }
   ],
   "source": [
    "cond1 = False\n",
    "if cond1:\n",
    "    print(\"cond1 is True\")\n",
    "else:\n",
    "    print(\"cond1 is False\")"
   ]
  },
  {
   "cell_type": "code",
   "execution_count": 11,
   "metadata": {},
   "outputs": [
    {
     "name": "stdout",
     "output_type": "stream",
     "text": [
      "[ELSE] cond1 and cond2 are false\n",
      "bye~\n"
     ]
    }
   ],
   "source": [
    "cond1 = False\n",
    "cond2 = False\n",
    "\n",
    "if cond1:\n",
    "    print(\"[IF] cond1 is true\")\n",
    "elif cond2:\n",
    "    print(\"[ELIF] cond2 is true2\")\n",
    "else:\n",
    "    print(\"[ELSE] cond1 and cond2 are false\")\n",
    "print(\"bye~\")"
   ]
  },
  {
   "cell_type": "markdown",
   "metadata": {},
   "source": [
    "## indent\n",
    "\n",
    "- 파이썬에서는 인덴트로 코드블록이 결정됨\n",
    "- 보통 스페이스 4칸이 인덴트로 사용됨"
   ]
  },
  {
   "cell_type": "code",
   "execution_count": 13,
   "metadata": {},
   "outputs": [
    {
     "name": "stdout",
     "output_type": "stream",
     "text": [
      "it is ?\n"
     ]
    }
   ],
   "source": [
    "cond1 = False\n",
    "if cond1:\n",
    "    print(\"it is true\")\n",
    "print(\"it is ?\")"
   ]
  },
  {
   "cell_type": "code",
   "execution_count": 15,
   "metadata": {},
   "outputs": [
    {
     "name": "stdout",
     "output_type": "stream",
     "text": [
      "-------\n"
     ]
    }
   ],
   "source": [
    "cond1 = False\n",
    "if cond1:\n",
    "    print(\"it is true\")\n",
    "    print(\"it is ?\")\n",
    "print(\"-------\")"
   ]
  },
  {
   "cell_type": "markdown",
   "metadata": {},
   "source": [
    "## print 사용법"
   ]
  },
  {
   "cell_type": "code",
   "execution_count": 17,
   "metadata": {},
   "outputs": [
    {
     "name": "stdout",
     "output_type": "stream",
     "text": [
      "I am 100% sleepy.\n"
     ]
    }
   ],
   "source": [
    "a = 100\n",
    "\n",
    "# print(\"I am \" + str(a) +\"% sleepy.\")\n",
    "# print(\"I am %d%% sleepy.\" % (a))\n",
    "print(\"I am {}% sleepy.\".format(a))"
   ]
  },
  {
   "cell_type": "markdown",
   "metadata": {},
   "source": [
    "\n",
    "## (option) 축약형 if\n",
    "\n",
    "- if를 한 줄로 사용하는 법\n",
    "\n"
   ]
  },
  {
   "cell_type": "code",
   "execution_count": null,
   "metadata": {},
   "outputs": [],
   "source": [
    "10 % 2"
   ]
  },
  {
   "cell_type": "code",
   "execution_count": null,
   "metadata": {},
   "outputs": [],
   "source": [
    "9 % 2"
   ]
  },
  {
   "cell_type": "code",
   "execution_count": 23,
   "metadata": {},
   "outputs": [
    {
     "name": "stdout",
     "output_type": "stream",
     "text": [
      "4은(는) 짝수입니다.\n"
     ]
    }
   ],
   "source": [
    "a = 4\n",
    "b = \"\"\n",
    "if a % 2 == 0:\n",
    "    b = \"짝수\"\n",
    "else:\n",
    "    b = \"홀수\"\n",
    "\n",
    "print(\"{}은(는) {}입니다.\".format(a, b))\n",
    "\n"
   ]
  },
  {
   "cell_type": "markdown",
   "metadata": {},
   "source": [
    "### 축약형 if 문법\n",
    "\n",
    "`b = a % 2 == 0 ? \"짝수\":\"홀수\"`\n",
    "```\n",
    "변수명=값1 if 조건 else 값2\n",
    "```\n",
    "조건이 참이면 변수에 값1이 들어가고 그렇지 않으면 값2가 들어갑니다. "
   ]
  },
  {
   "cell_type": "code",
   "execution_count": 24,
   "metadata": {},
   "outputs": [
    {
     "name": "stdout",
     "output_type": "stream",
     "text": [
      "4은(는) 짝수 입니다.\n"
     ]
    }
   ],
   "source": [
    "a = 4\n",
    "b = \"짝수\" if a % 2 == 0 else \"홀수\"\n",
    "print(\"{}은(는) {} 입니다.\".format(a, b))"
   ]
  },
  {
   "cell_type": "code",
   "execution_count": 26,
   "metadata": {},
   "outputs": [
    {
     "data": {
      "text/plain": [
       "0"
      ]
     },
     "execution_count": 26,
     "metadata": {},
     "output_type": "execute_result"
    }
   ],
   "source": [
    "a = False \n",
    "b = 1 if a else 0 \n",
    "b"
   ]
  },
  {
   "cell_type": "code",
   "execution_count": 29,
   "metadata": {},
   "outputs": [
    {
     "data": {
      "text/plain": [
       "0"
      ]
     },
     "execution_count": 29,
     "metadata": {},
     "output_type": "execute_result"
    }
   ],
   "source": [
    "a = False\n",
    "b = a + 0\n",
    "b"
   ]
  },
  {
   "cell_type": "markdown",
   "metadata": {
    "collapsed": true
   },
   "source": [
    "## for 반복문\n",
    "\n",
    "- 파이썬의 대표적 반복문\n",
    "- 주로 리스트 안의 요소 각각에 코드를 반복적으로 실행하기 위해 사용\n"
   ]
  },
  {
   "cell_type": "code",
   "execution_count": 30,
   "metadata": {},
   "outputs": [],
   "source": [
    "nums = [1, 3, 5, 7, 9]\n",
    "strs = [\"hello\", \"world\", \"good\", \"day\"]"
   ]
  },
  {
   "cell_type": "code",
   "execution_count": 32,
   "metadata": {},
   "outputs": [
    {
     "name": "stdout",
     "output_type": "stream",
     "text": [
      "value = 1\n",
      "value = 3\n",
      "value = 5\n",
      "value = 7\n",
      "value = 9\n"
     ]
    }
   ],
   "source": [
    "for i in nums:\n",
    "    print(\"value = {}\".format(i))"
   ]
  },
  {
   "cell_type": "code",
   "execution_count": 33,
   "metadata": {},
   "outputs": [
    {
     "name": "stdout",
     "output_type": "stream",
     "text": [
      "hello\n",
      "world\n",
      "good\n",
      "day\n"
     ]
    }
   ],
   "source": [
    "for s in strs:\n",
    "    print(s)"
   ]
  },
  {
   "cell_type": "markdown",
   "metadata": {},
   "source": [
    "## range"
   ]
  },
  {
   "cell_type": "code",
   "execution_count": 34,
   "metadata": {},
   "outputs": [
    {
     "data": {
      "text/plain": [
       "[0, 1, 2, 3, 4, 5, 6, 7, 8, 9]"
      ]
     },
     "execution_count": 34,
     "metadata": {},
     "output_type": "execute_result"
    }
   ],
   "source": [
    "a = list(range(10))\n",
    "a"
   ]
  },
  {
   "cell_type": "code",
   "execution_count": 35,
   "metadata": {},
   "outputs": [
    {
     "data": {
      "text/plain": [
       "range(0, 5)"
      ]
     },
     "execution_count": 35,
     "metadata": {},
     "output_type": "execute_result"
    }
   ],
   "source": [
    "b = range(5)\n",
    "b"
   ]
  },
  {
   "cell_type": "code",
   "execution_count": 36,
   "metadata": {},
   "outputs": [
    {
     "name": "stdout",
     "output_type": "stream",
     "text": [
      "0\n",
      "1\n",
      "2\n",
      "3\n",
      "4\n",
      "5\n",
      "6\n",
      "7\n",
      "8\n",
      "9\n"
     ]
    }
   ],
   "source": [
    "for i in list(range(10)):\n",
    "    print(i)"
   ]
  },
  {
   "cell_type": "code",
   "execution_count": 37,
   "metadata": {},
   "outputs": [
    {
     "name": "stdout",
     "output_type": "stream",
     "text": [
      "0\n",
      "1\n",
      "2\n",
      "3\n",
      "4\n",
      "5\n",
      "6\n",
      "7\n",
      "8\n",
      "9\n"
     ]
    }
   ],
   "source": [
    "for i in range(10):\n",
    "    print(i)"
   ]
  },
  {
   "cell_type": "code",
   "execution_count": 39,
   "metadata": {},
   "outputs": [
    {
     "name": "stdout",
     "output_type": "stream",
     "text": [
      "hello\n",
      "hello\n",
      "hello\n",
      "hello\n",
      "hello\n",
      "hello\n",
      "hello\n",
      "hello\n",
      "hello\n",
      "hello\n"
     ]
    }
   ],
   "source": [
    "for _ in range(10): #단순히 10번 반복하겠다\n",
    "    print(\"hello\")"
   ]
  },
  {
   "cell_type": "code",
   "execution_count": 41,
   "metadata": {},
   "outputs": [
    {
     "name": "stdout",
     "output_type": "stream",
     "text": [
      "1 1\n",
      "2 3\n",
      "3 6\n",
      "4 10\n",
      "5 15\n",
      "6 21\n",
      "7 28\n",
      "8 36\n",
      "9 45\n",
      "10 55\n",
      "sum of 1 to 10 is 55\n"
     ]
    }
   ],
   "source": [
    "## 1 - 10 까지 더하기\n",
    "my_sum = 0\n",
    "for i in range(1, 11):\n",
    "    my_sum += i\n",
    "    print(i, my_sum)\n",
    "\n",
    "print(\"sum of 1 to 10 is {}\".format(my_sum))"
   ]
  },
  {
   "cell_type": "markdown",
   "metadata": {},
   "source": [
    "## break, continue \n",
    "- break 명령을 만나면 루프(반복문)를 끝냅니다."
   ]
  },
  {
   "cell_type": "code",
   "execution_count": 43,
   "metadata": {},
   "outputs": [
    {
     "name": "stdout",
     "output_type": "stream",
     "text": [
      "0\n",
      "1\n",
      "2\n",
      "3\n",
      "4\n",
      "5\n",
      "end\n"
     ]
    }
   ],
   "source": [
    "for i in range(10):\n",
    "    print(i)\n",
    "    if i == 5:\n",
    "        break\n",
    "print(\"end\")"
   ]
  },
  {
   "cell_type": "markdown",
   "metadata": {},
   "source": [
    "## continue\n",
    "continue를 만나면 루프의 처음으로 돌아갑니다."
   ]
  },
  {
   "cell_type": "code",
   "execution_count": 44,
   "metadata": {},
   "outputs": [
    {
     "name": "stdout",
     "output_type": "stream",
     "text": [
      "0\n",
      "1\n",
      "2\n",
      "3\n",
      "4\n",
      "6\n",
      "7\n",
      "8\n",
      "9\n",
      "end\n"
     ]
    }
   ],
   "source": [
    "for i in range(10):\n",
    "    if i == 5:\n",
    "        continue\n",
    "    print(i)\n",
    "print(\"end\")"
   ]
  },
  {
   "cell_type": "markdown",
   "metadata": {},
   "source": [
    "## 연습문제 \n",
    "### 소수 찾기 \n",
    "3이상의 자연수 n이 소수인지를 판별하는 코드를 작성해 봅시다. \n",
    "\n",
    "- 소수: 1과 자기 자신으로만 나눌 수 있는 수 \n",
    "- 2부터 n - 1 까지 안 나눠지는 수"
   ]
  },
  {
   "cell_type": "code",
   "execution_count": 51,
   "metadata": {},
   "outputs": [
    {
     "name": "stdout",
     "output_type": "stream",
     "text": [
      "소수\n"
     ]
    }
   ],
   "source": [
    "n = 13\n",
    "for i in range(2, n):\n",
    "    if n % i == 0:\n",
    "        print(\"안 소수\")\n",
    "        break\n",
    "else:\n",
    "    print(\"소수\")"
   ]
  },
  {
   "cell_type": "markdown",
   "metadata": {},
   "source": [
    "## dictionary 의 순회 \n",
    "- value를 이용한 순회 \n",
    "- key를 이용한 순회\n",
    "- items()를 이용한 순회 "
   ]
  },
  {
   "cell_type": "code",
   "execution_count": 52,
   "metadata": {},
   "outputs": [
    {
     "data": {
      "text/plain": [
       "{'amazon': 1600, 'apple': 180, 'google': 1009}"
      ]
     },
     "execution_count": 52,
     "metadata": {},
     "output_type": "execute_result"
    }
   ],
   "source": [
    "data = {\"google\": 1009, \"amazon\": 1600, \"apple\": 180}\n",
    "data"
   ]
  },
  {
   "cell_type": "code",
   "execution_count": 53,
   "metadata": {},
   "outputs": [
    {
     "name": "stdout",
     "output_type": "stream",
     "text": [
      "google\n",
      "apple\n",
      "amazon\n"
     ]
    }
   ],
   "source": [
    "# key만 가져오기 \n",
    "for i in data:\n",
    "    print(i)"
   ]
  },
  {
   "cell_type": "code",
   "execution_count": 56,
   "metadata": {},
   "outputs": [
    {
     "name": "stdout",
     "output_type": "stream",
     "text": [
      "google 1009\n",
      "apple 180\n",
      "amazon 1600\n"
     ]
    }
   ],
   "source": [
    "# key를 이용환 순회 \n",
    "for key in data:\n",
    "    print(key, data[key])"
   ]
  },
  {
   "cell_type": "code",
   "execution_count": 57,
   "metadata": {},
   "outputs": [
    {
     "data": {
      "text/plain": [
       "dict_items([('google', 1009), ('apple', 180), ('amazon', 1600)])"
      ]
     },
     "execution_count": 57,
     "metadata": {},
     "output_type": "execute_result"
    }
   ],
   "source": [
    "data.items() #tuple의 리스트 "
   ]
  },
  {
   "cell_type": "code",
   "execution_count": 58,
   "metadata": {},
   "outputs": [
    {
     "name": "stdout",
     "output_type": "stream",
     "text": [
      "('google', 1009)\n",
      "('apple', 180)\n",
      "('amazon', 1600)\n"
     ]
    }
   ],
   "source": [
    "for item in data.items():\n",
    "    print(item)"
   ]
  },
  {
   "cell_type": "code",
   "execution_count": 62,
   "metadata": {},
   "outputs": [
    {
     "name": "stdout",
     "output_type": "stream",
     "text": [
      "10\n",
      "20\n"
     ]
    }
   ],
   "source": [
    "x = (10, 20)\n",
    "(a, b) = x\n",
    "print(a)\n",
    "print(b)"
   ]
  },
  {
   "cell_type": "code",
   "execution_count": 64,
   "metadata": {},
   "outputs": [
    {
     "name": "stdout",
     "output_type": "stream",
     "text": [
      "3\n",
      "10\n"
     ]
    }
   ],
   "source": [
    "a = 10 \n",
    "b = 3 \n",
    "(a, b) = (b, a)\n",
    "print(a)\n",
    "print(b)"
   ]
  },
  {
   "cell_type": "markdown",
   "metadata": {},
   "source": [
    "## best choice"
   ]
  },
  {
   "cell_type": "code",
   "execution_count": 65,
   "metadata": {},
   "outputs": [
    {
     "name": "stdout",
     "output_type": "stream",
     "text": [
      "google 1009\n",
      "apple 180\n",
      "amazon 1600\n"
     ]
    }
   ],
   "source": [
    "for k,v in data.items():\n",
    "    print(k, v)"
   ]
  },
  {
   "cell_type": "markdown",
   "metadata": {},
   "source": [
    "## (option) for - else \n"
   ]
  },
  {
   "cell_type": "code",
   "execution_count": null,
   "metadata": {},
   "outputs": [],
   "source": [
    "nums = 14\n",
    "for i in range(2, nums):\n",
    "    if nums % i == 0:\n",
    "        print(\"안 소수\")\n",
    "        break\n",
    "else:\n",
    "    print(\"소수\")"
   ]
  },
  {
   "cell_type": "markdown",
   "metadata": {},
   "source": [
    "## (option) try - except"
   ]
  },
  {
   "cell_type": "code",
   "execution_count": null,
   "metadata": {},
   "outputs": [],
   "source": [
    "n = 0\n",
    "print(10 / n) \n",
    "\n",
    "# 반드시 실행되어야 하는 코드 \n",
    "print(\"엄청나게 중요한 코드\")"
   ]
  },
  {
   "cell_type": "code",
   "execution_count": null,
   "metadata": {},
   "outputs": [],
   "source": [
    "n = 0\n",
    "try:\n",
    "    print(10 / n)\n",
    "except ZeroDivisionError as e:\n",
    "    print(\"에러 났네: {}\".format(e))\n",
    "    \n",
    "# 반드시 실행되어야 하는 코드 \n",
    "print(\"엄청나게 중요한 코드\")"
   ]
  },
  {
   "cell_type": "markdown",
   "metadata": {},
   "source": [
    "## 개발자 유머"
   ]
  },
  {
   "cell_type": "markdown",
   "metadata": {},
   "source": [
    "### 우유 사와, 계란 있으면 6개 사와\n"
   ]
  },
  {
   "cell_type": "code",
   "execution_count": null,
   "metadata": {},
   "outputs": [],
   "source": [
    "mart = {\"egg\": 100, \"milk\": 100}\n",
    "me = {}\n",
    "wife = {}\n",
    "\n",
    "# 우유 사와\n",
    "wife['order'] = 'milk'\n",
    "\n",
    "# 계란 있으면 \n",
    "if \"egg\" in mart:\n",
    "    # 6개 사와 \n",
    "    item = wife['order']\n",
    "    me[item] = 0\n",
    "    num = 6\n",
    "    for i in range(num):\n",
    "        me[item] += 1\n",
    "        mart[item] -= 1\n",
    "\n",
    "print(me)\n",
    "print(mart)"
   ]
  },
  {
   "cell_type": "markdown",
   "metadata": {},
   "source": [
    "## 연습문제 "
   ]
  },
  {
   "cell_type": "markdown",
   "metadata": {},
   "source": [
    "1. 1부터 100까지 짝수의 합을 구해서 출력해 보세요. \n",
    "2. 구구단의 7단을 출력해 보세요. \n",
    "3. 어떤 수가 양수, 0, 음수인지 판단하는 코드를 작성해 보세요. "
   ]
  },
  {
   "cell_type": "code",
   "execution_count": null,
   "metadata": {},
   "outputs": [],
   "source": []
  }
 ],
 "metadata": {
  "kernelspec": {
   "display_name": "Python 3",
   "language": "python",
   "name": "python3"
  },
  "language_info": {
   "codemirror_mode": {
    "name": "ipython",
    "version": 3
   },
   "file_extension": ".py",
   "mimetype": "text/x-python",
   "name": "python",
   "nbconvert_exporter": "python",
   "pygments_lexer": "ipython3",
   "version": "3.7.2"
  }
 },
 "nbformat": 4,
 "nbformat_minor": 2
}

{
  "cells": [
    {
      "metadata": {
        "collapsed": true
      },
      "cell_type": "markdown",
      "source": "# Pandas DataFrame \n\n- 라벨이 있는 2차원의 데이터를 처리하는 라이브러리\n- 엑셀이 하는 일과 비슷한 일을 파이썬으로 할 수 있다.\n- NumPy 기반으로 매우 빠르다.\n- 다양하게 데이터를 가공하고 처리할 수 있다.\n- 자동화, 빅데이터 처리, 머신 러닝, 딥 러닝 등을 위해서 필수적으로 배워야 하는 도구"
    },
    {
      "metadata": {},
      "cell_type": "markdown",
      "source": "## DataFrame\n\n- 가장 큰 데이터 묶음\n- 파일로부터 생성 가능\n- 또는 기존의 데이터에서 변환 가능 "
    },
    {
      "metadata": {},
      "cell_type": "markdown",
      "source": "## Series\n- 리스트와 유사한 자료구조\n- 리스트와 달리 라벨이 붙어 있다. "
    },
    {
      "metadata": {},
      "cell_type": "markdown",
      "source": "## 시작하기 "
    },
    {
      "metadata": {
        "trusted": false
      },
      "cell_type": "code",
      "source": "import pandas as pd",
      "execution_count": 1,
      "outputs": []
    },
    {
      "metadata": {
        "trusted": false
      },
      "cell_type": "code",
      "source": "!ls ./data",
      "execution_count": 2,
      "outputs": [
        {
          "name": "stdout",
          "output_type": "stream",
          "text": "data-header.csv  mongo.xls  no-header.csv  panda_file.csv  seoul-data.csv\r\n"
        }
      ]
    },
    {
      "metadata": {
        "trusted": false
      },
      "cell_type": "code",
      "source": "!cat ./data/data-header.csv",
      "execution_count": 3,
      "outputs": [
        {
          "name": "stdout",
          "output_type": "stream",
          "text": "name,age,money,sex\r\n둘리,100,100,M\r\n길동,40,500000,M\r\n또치,15,50,F\r\n희동,3,,M"
        }
      ]
    },
    {
      "metadata": {},
      "cell_type": "markdown",
      "source": "## 파이썬에서 파일 읽기\n1. open() # 열고\n2. read() # 읽고\n3. close() #닫는다."
    },
    {
      "metadata": {
        "trusted": false
      },
      "cell_type": "code",
      "source": "fp = open('./data/data-header.csv')",
      "execution_count": 5,
      "outputs": []
    },
    {
      "metadata": {
        "trusted": false
      },
      "cell_type": "code",
      "source": "data = fp.read()\ndata",
      "execution_count": 6,
      "outputs": [
        {
          "data": {
            "text/plain": "'name,age,money,sex\\n둘리,100,100,M\\n길동,40,500000,M\\n또치,15,50,F\\n희동,3,,M'"
          },
          "execution_count": 6,
          "metadata": {},
          "output_type": "execute_result"
        }
      ]
    },
    {
      "metadata": {
        "trusted": false
      },
      "cell_type": "code",
      "source": "fp.close()",
      "execution_count": 7,
      "outputs": []
    },
    {
      "metadata": {
        "trusted": false
      },
      "cell_type": "code",
      "source": "type(data)",
      "execution_count": 9,
      "outputs": [
        {
          "data": {
            "text/plain": "str"
          },
          "execution_count": 9,
          "metadata": {},
          "output_type": "execute_result"
        }
      ]
    },
    {
      "metadata": {
        "trusted": false
      },
      "cell_type": "code",
      "source": "dooly_data = data.split('\\n')\ndooly_data ",
      "execution_count": 10,
      "outputs": [
        {
          "data": {
            "text/plain": "['name,age,money,sex',\n '둘리,100,100,M',\n '길동,40,500000,M',\n '또치,15,50,F',\n '희동,3,,M']"
          },
          "execution_count": 10,
          "metadata": {},
          "output_type": "execute_result"
        }
      ]
    },
    {
      "metadata": {
        "trusted": false
      },
      "cell_type": "code",
      "source": "header = dooly_data[0].split(',')\nheader",
      "execution_count": 11,
      "outputs": [
        {
          "data": {
            "text/plain": "['name', 'age', 'money', 'sex']"
          },
          "execution_count": 11,
          "metadata": {},
          "output_type": "execute_result"
        }
      ]
    },
    {
      "metadata": {
        "trusted": false
      },
      "cell_type": "code",
      "source": "dooly_data = dooly_data[1:]\ndooly_data",
      "execution_count": 12,
      "outputs": [
        {
          "data": {
            "text/plain": "['둘리,100,100,M', '길동,40,500000,M', '또치,15,50,F', '희동,3,,M']"
          },
          "execution_count": 12,
          "metadata": {},
          "output_type": "execute_result"
        }
      ]
    },
    {
      "metadata": {
        "trusted": false
      },
      "cell_type": "code",
      "source": "def genDict(item):\n    sitem = item.split(',')\n    item_dict = {}\n    for i in range(len(header)):\n        item_dict[header[i]] = sitem[i] \n    return item_dict\n\ndooly2 = dooly[1:]\ndooly2\ndooly_data = [genDict(i) for i in dooly2]\ndooly_data",
      "execution_count": 24,
      "outputs": [
        {
          "data": {
            "text/plain": "[{'age': '100', 'money': '100', 'name': '둘리', 'sex': 'M'},\n {'age': '40', 'money': '500000', 'name': '길동', 'sex': 'M'},\n {'age': '15', 'money': '50', 'name': '또치', 'sex': 'F'},\n {'age': '3', 'money': '', 'name': '희동', 'sex': 'M'}]"
          },
          "execution_count": 24,
          "metadata": {},
          "output_type": "execute_result"
        }
      ]
    },
    {
      "metadata": {
        "trusted": false
      },
      "cell_type": "code",
      "source": "dooly_data = [i.split(',') for i in dooly_data]",
      "execution_count": null,
      "outputs": []
    },
    {
      "metadata": {
        "trusted": false
      },
      "cell_type": "code",
      "source": "print(header)\nprint(dooly_data[0])\ndict(zip(header, dooly_data[0]))",
      "execution_count": 41,
      "outputs": [
        {
          "name": "stdout",
          "output_type": "stream",
          "text": "['name', 'age', 'money', 'sex']\n['둘리', '100', '100', 'M']\n"
        },
        {
          "data": {
            "text/plain": "{'age': '100', 'money': '100', 'name': '둘리', 'sex': 'M'}"
          },
          "execution_count": 41,
          "metadata": {},
          "output_type": "execute_result"
        }
      ]
    },
    {
      "metadata": {
        "trusted": false
      },
      "cell_type": "code",
      "source": "result = [dict(zip(header,item)) for item in dooly_data]\nresult ",
      "execution_count": 46,
      "outputs": [
        {
          "data": {
            "text/plain": "[{'age': '100', 'money': '100', 'name': '둘리', 'sex': 'M'},\n {'age': '40', 'money': '500000', 'name': '길동', 'sex': 'M'},\n {'age': '15', 'money': '50', 'name': '또치', 'sex': 'F'},\n {'age': '3', 'money': '', 'name': '희동', 'sex': 'M'}]"
          },
          "execution_count": 46,
          "metadata": {},
          "output_type": "execute_result"
        }
      ]
    },
    {
      "metadata": {
        "trusted": false
      },
      "cell_type": "code",
      "source": "pd.DataFrame(result)",
      "execution_count": 47,
      "outputs": [
        {
          "data": {
            "text/html": "<div>\n<style>\n    .dataframe thead tr:only-child th {\n        text-align: right;\n    }\n\n    .dataframe thead th {\n        text-align: left;\n    }\n\n    .dataframe tbody tr th {\n        vertical-align: top;\n    }\n</style>\n<table border=\"1\" class=\"dataframe\">\n  <thead>\n    <tr style=\"text-align: right;\">\n      <th></th>\n      <th>age</th>\n      <th>money</th>\n      <th>name</th>\n      <th>sex</th>\n    </tr>\n  </thead>\n  <tbody>\n    <tr>\n      <th>0</th>\n      <td>100</td>\n      <td>100</td>\n      <td>둘리</td>\n      <td>M</td>\n    </tr>\n    <tr>\n      <th>1</th>\n      <td>40</td>\n      <td>500000</td>\n      <td>길동</td>\n      <td>M</td>\n    </tr>\n    <tr>\n      <th>2</th>\n      <td>15</td>\n      <td>50</td>\n      <td>또치</td>\n      <td>F</td>\n    </tr>\n    <tr>\n      <th>3</th>\n      <td>3</td>\n      <td></td>\n      <td>희동</td>\n      <td>M</td>\n    </tr>\n  </tbody>\n</table>\n</div>",
            "text/plain": "   age   money name sex\n0  100     100   둘리   M\n1   40  500000   길동   M\n2   15      50   또치   F\n3    3           희동   M"
          },
          "execution_count": 47,
          "metadata": {},
          "output_type": "execute_result"
        }
      ]
    },
    {
      "metadata": {
        "trusted": false
      },
      "cell_type": "code",
      "source": "import pandas as pd",
      "execution_count": 48,
      "outputs": []
    },
    {
      "metadata": {
        "trusted": false
      },
      "cell_type": "code",
      "source": "!ls ./data",
      "execution_count": 49,
      "outputs": [
        {
          "name": "stdout",
          "output_type": "stream",
          "text": "data-header.csv  mongo.xls  no-header.csv  panda_file.csv  seoul-data.csv\r\n"
        }
      ]
    },
    {
      "metadata": {
        "trusted": false
      },
      "cell_type": "code",
      "source": "df = pd.read_csv('./data/data-header.csv')\ndf",
      "execution_count": 52,
      "outputs": [
        {
          "data": {
            "text/html": "<div>\n<style>\n    .dataframe thead tr:only-child th {\n        text-align: right;\n    }\n\n    .dataframe thead th {\n        text-align: left;\n    }\n\n    .dataframe tbody tr th {\n        vertical-align: top;\n    }\n</style>\n<table border=\"1\" class=\"dataframe\">\n  <thead>\n    <tr style=\"text-align: right;\">\n      <th></th>\n      <th>name</th>\n      <th>age</th>\n      <th>money</th>\n      <th>sex</th>\n    </tr>\n  </thead>\n  <tbody>\n    <tr>\n      <th>0</th>\n      <td>둘리</td>\n      <td>100</td>\n      <td>100.0</td>\n      <td>M</td>\n    </tr>\n    <tr>\n      <th>1</th>\n      <td>길동</td>\n      <td>40</td>\n      <td>500000.0</td>\n      <td>M</td>\n    </tr>\n    <tr>\n      <th>2</th>\n      <td>또치</td>\n      <td>15</td>\n      <td>50.0</td>\n      <td>F</td>\n    </tr>\n    <tr>\n      <th>3</th>\n      <td>희동</td>\n      <td>3</td>\n      <td>NaN</td>\n      <td>M</td>\n    </tr>\n  </tbody>\n</table>\n</div>",
            "text/plain": "  name  age     money sex\n0   둘리  100     100.0   M\n1   길동   40  500000.0   M\n2   또치   15      50.0   F\n3   희동    3       NaN   M"
          },
          "execution_count": 52,
          "metadata": {},
          "output_type": "execute_result"
        }
      ]
    },
    {
      "metadata": {
        "trusted": false
      },
      "cell_type": "code",
      "source": "df = pd.read_csv('./data/seoul-data.csv')",
      "execution_count": 53,
      "outputs": []
    },
    {
      "metadata": {
        "trusted": false
      },
      "cell_type": "code",
      "source": "len(df)",
      "execution_count": 54,
      "outputs": [
        {
          "data": {
            "text/plain": "11915"
          },
          "execution_count": 54,
          "metadata": {},
          "output_type": "execute_result"
        }
      ]
    },
    {
      "metadata": {},
      "cell_type": "markdown",
      "source": "## describe, info"
    },
    {
      "metadata": {
        "trusted": false
      },
      "cell_type": "code",
      "source": "df.head()",
      "execution_count": 56,
      "outputs": [
        {
          "data": {
            "text/html": "<div>\n<style>\n    .dataframe thead tr:only-child th {\n        text-align: right;\n    }\n\n    .dataframe thead th {\n        text-align: left;\n    }\n\n    .dataframe tbody tr th {\n        vertical-align: top;\n    }\n</style>\n<table border=\"1\" class=\"dataframe\">\n  <thead>\n    <tr style=\"text-align: right;\">\n      <th></th>\n      <th>NO</th>\n      <th>M-N0</th>\n      <th>M-NAME</th>\n      <th>P-NO</th>\n      <th>P-NAME</th>\n      <th>SIZE</th>\n      <th>PRICE</th>\n      <th>YEAR</th>\n      <th>ETC</th>\n      <th>CHECK-DATE</th>\n      <th>MTYPE-NO</th>\n      <th>MART-TYPE</th>\n      <th>A-CODE</th>\n      <th>A-NAME</th>\n    </tr>\n  </thead>\n  <tbody>\n    <tr>\n      <th>0</th>\n      <td>1222813</td>\n      <td>60</td>\n      <td>이마트 청계점</td>\n      <td>305</td>\n      <td>사과(부사, 300g)</td>\n      <td>1개</td>\n      <td>1750</td>\n      <td>2018-04</td>\n      <td>NaN</td>\n      <td>2018-04-19</td>\n      <td>2</td>\n      <td>대형마트</td>\n      <td>140000</td>\n      <td>중구</td>\n    </tr>\n    <tr>\n      <th>1</th>\n      <td>1222814</td>\n      <td>60</td>\n      <td>이마트 청계점</td>\n      <td>284</td>\n      <td>배(중품)</td>\n      <td>1개</td>\n      <td>2200</td>\n      <td>2018-04</td>\n      <td>NaN</td>\n      <td>2018-04-19</td>\n      <td>2</td>\n      <td>대형마트</td>\n      <td>140000</td>\n      <td>중구</td>\n    </tr>\n    <tr>\n      <th>2</th>\n      <td>1222815</td>\n      <td>60</td>\n      <td>이마트 청계점</td>\n      <td>271</td>\n      <td>배추(중간)</td>\n      <td>1포기 2.5kg</td>\n      <td>3980</td>\n      <td>2018-04</td>\n      <td>NaN</td>\n      <td>2018-04-19</td>\n      <td>2</td>\n      <td>대형마트</td>\n      <td>140000</td>\n      <td>중구</td>\n    </tr>\n    <tr>\n      <th>3</th>\n      <td>1222816</td>\n      <td>60</td>\n      <td>이마트 청계점</td>\n      <td>133</td>\n      <td>무(세척무)</td>\n      <td>1개</td>\n      <td>2280</td>\n      <td>2018-04</td>\n      <td>NaN</td>\n      <td>2018-04-19</td>\n      <td>2</td>\n      <td>대형마트</td>\n      <td>140000</td>\n      <td>중구</td>\n    </tr>\n    <tr>\n      <th>4</th>\n      <td>1222817</td>\n      <td>60</td>\n      <td>이마트 청계점</td>\n      <td>309</td>\n      <td>양파(1.5kg망)</td>\n      <td>1망</td>\n      <td>2780</td>\n      <td>2018-04</td>\n      <td>NaN</td>\n      <td>2018-04-19</td>\n      <td>2</td>\n      <td>대형마트</td>\n      <td>140000</td>\n      <td>중구</td>\n    </tr>\n  </tbody>\n</table>\n</div>",
            "text/plain": "        NO  M-N0   M-NAME  P-NO        P-NAME       SIZE  PRICE     YEAR  ETC  \\\n0  1222813    60  이마트 청계점   305  사과(부사, 300g)         1개   1750  2018-04  NaN   \n1  1222814    60  이마트 청계점   284         배(중품)         1개   2200  2018-04  NaN   \n2  1222815    60  이마트 청계점   271        배추(중간)  1포기 2.5kg   3980  2018-04  NaN   \n3  1222816    60  이마트 청계점   133        무(세척무)         1개   2280  2018-04  NaN   \n4  1222817    60  이마트 청계점   309    양파(1.5kg망)         1망   2780  2018-04  NaN   \n\n   CHECK-DATE  MTYPE-NO MART-TYPE  A-CODE A-NAME  \n0  2018-04-19         2      대형마트  140000     중구  \n1  2018-04-19         2      대형마트  140000     중구  \n2  2018-04-19         2      대형마트  140000     중구  \n3  2018-04-19         2      대형마트  140000     중구  \n4  2018-04-19         2      대형마트  140000     중구  "
          },
          "execution_count": 56,
          "metadata": {},
          "output_type": "execute_result"
        }
      ]
    },
    {
      "metadata": {
        "trusted": false
      },
      "cell_type": "code",
      "source": "df.describe()",
      "execution_count": 55,
      "outputs": [
        {
          "data": {
            "text/html": "<div>\n<style>\n    .dataframe thead tr:only-child th {\n        text-align: right;\n    }\n\n    .dataframe thead th {\n        text-align: left;\n    }\n\n    .dataframe tbody tr th {\n        vertical-align: top;\n    }\n</style>\n<table border=\"1\" class=\"dataframe\">\n  <thead>\n    <tr style=\"text-align: right;\">\n      <th></th>\n      <th>NO</th>\n      <th>M-N0</th>\n      <th>P-NO</th>\n      <th>PRICE</th>\n      <th>MTYPE-NO</th>\n      <th>A-CODE</th>\n    </tr>\n  </thead>\n  <tbody>\n    <tr>\n      <th>count</th>\n      <td>1.191500e+04</td>\n      <td>11915.000000</td>\n      <td>11915.000000</td>\n      <td>11915.000000</td>\n      <td>11915.000000</td>\n      <td>11915.000000</td>\n    </tr>\n    <tr>\n      <th>mean</th>\n      <td>1.187936e+06</td>\n      <td>101.450608</td>\n      <td>220.864876</td>\n      <td>5316.608057</td>\n      <td>1.509190</td>\n      <td>417407.469576</td>\n    </tr>\n    <tr>\n      <th>std</th>\n      <td>2.691104e+04</td>\n      <td>66.597966</td>\n      <td>104.907023</td>\n      <td>7052.859565</td>\n      <td>0.499937</td>\n      <td>185353.610108</td>\n    </tr>\n    <tr>\n      <th>min</th>\n      <td>1.144006e+06</td>\n      <td>1.000000</td>\n      <td>13.000000</td>\n      <td>0.000000</td>\n      <td>1.000000</td>\n      <td>110000.000000</td>\n    </tr>\n    <tr>\n      <th>25%</th>\n      <td>1.161604e+06</td>\n      <td>45.000000</td>\n      <td>144.000000</td>\n      <td>1845.000000</td>\n      <td>1.000000</td>\n      <td>260000.000000</td>\n    </tr>\n    <tr>\n      <th>50%</th>\n      <td>1.189845e+06</td>\n      <td>94.000000</td>\n      <td>266.000000</td>\n      <td>3000.000000</td>\n      <td>2.000000</td>\n      <td>410000.000000</td>\n    </tr>\n    <tr>\n      <th>75%</th>\n      <td>1.216282e+06</td>\n      <td>145.000000</td>\n      <td>308.000000</td>\n      <td>5000.000000</td>\n      <td>2.000000</td>\n      <td>560000.000000</td>\n    </tr>\n    <tr>\n      <th>max</th>\n      <td>1.226161e+06</td>\n      <td>223.000000</td>\n      <td>320.000000</td>\n      <td>53400.000000</td>\n      <td>2.000000</td>\n      <td>740000.000000</td>\n    </tr>\n  </tbody>\n</table>\n</div>",
            "text/plain": "                 NO          M-N0          P-NO         PRICE      MTYPE-NO  \\\ncount  1.191500e+04  11915.000000  11915.000000  11915.000000  11915.000000   \nmean   1.187936e+06    101.450608    220.864876   5316.608057      1.509190   \nstd    2.691104e+04     66.597966    104.907023   7052.859565      0.499937   \nmin    1.144006e+06      1.000000     13.000000      0.000000      1.000000   \n25%    1.161604e+06     45.000000    144.000000   1845.000000      1.000000   \n50%    1.189845e+06     94.000000    266.000000   3000.000000      2.000000   \n75%    1.216282e+06    145.000000    308.000000   5000.000000      2.000000   \nmax    1.226161e+06    223.000000    320.000000  53400.000000      2.000000   \n\n              A-CODE  \ncount   11915.000000  \nmean   417407.469576  \nstd    185353.610108  \nmin    110000.000000  \n25%    260000.000000  \n50%    410000.000000  \n75%    560000.000000  \nmax    740000.000000  "
          },
          "execution_count": 55,
          "metadata": {},
          "output_type": "execute_result"
        }
      ]
    },
    {
      "metadata": {
        "trusted": false
      },
      "cell_type": "code",
      "source": "df.info()",
      "execution_count": 57,
      "outputs": [
        {
          "name": "stdout",
          "output_type": "stream",
          "text": "<class 'pandas.core.frame.DataFrame'>\nRangeIndex: 11915 entries, 0 to 11914\nData columns (total 14 columns):\nNO            11915 non-null int64\nM-N0          11915 non-null int64\nM-NAME        11915 non-null object\nP-NO          11915 non-null int64\nP-NAME        11915 non-null object\nSIZE          11915 non-null object\nPRICE         11915 non-null int64\nYEAR          11915 non-null object\nETC           9438 non-null object\nCHECK-DATE    11915 non-null object\nMTYPE-NO      11915 non-null int64\nMART-TYPE     11915 non-null object\nA-CODE        11915 non-null int64\nA-NAME        11915 non-null object\ndtypes: int64(6), object(8)\nmemory usage: 1.3+ MB\n"
        }
      ]
    },
    {
      "metadata": {},
      "cell_type": "markdown",
      "source": "## head, tail "
    },
    {
      "metadata": {
        "trusted": false
      },
      "cell_type": "code",
      "source": "df.head(5)",
      "execution_count": 58,
      "outputs": [
        {
          "data": {
            "text/html": "<div>\n<style>\n    .dataframe thead tr:only-child th {\n        text-align: right;\n    }\n\n    .dataframe thead th {\n        text-align: left;\n    }\n\n    .dataframe tbody tr th {\n        vertical-align: top;\n    }\n</style>\n<table border=\"1\" class=\"dataframe\">\n  <thead>\n    <tr style=\"text-align: right;\">\n      <th></th>\n      <th>NO</th>\n      <th>M-N0</th>\n      <th>M-NAME</th>\n      <th>P-NO</th>\n      <th>P-NAME</th>\n      <th>SIZE</th>\n      <th>PRICE</th>\n      <th>YEAR</th>\n      <th>ETC</th>\n      <th>CHECK-DATE</th>\n      <th>MTYPE-NO</th>\n      <th>MART-TYPE</th>\n      <th>A-CODE</th>\n      <th>A-NAME</th>\n    </tr>\n  </thead>\n  <tbody>\n    <tr>\n      <th>0</th>\n      <td>1222813</td>\n      <td>60</td>\n      <td>이마트 청계점</td>\n      <td>305</td>\n      <td>사과(부사, 300g)</td>\n      <td>1개</td>\n      <td>1750</td>\n      <td>2018-04</td>\n      <td>NaN</td>\n      <td>2018-04-19</td>\n      <td>2</td>\n      <td>대형마트</td>\n      <td>140000</td>\n      <td>중구</td>\n    </tr>\n    <tr>\n      <th>1</th>\n      <td>1222814</td>\n      <td>60</td>\n      <td>이마트 청계점</td>\n      <td>284</td>\n      <td>배(중품)</td>\n      <td>1개</td>\n      <td>2200</td>\n      <td>2018-04</td>\n      <td>NaN</td>\n      <td>2018-04-19</td>\n      <td>2</td>\n      <td>대형마트</td>\n      <td>140000</td>\n      <td>중구</td>\n    </tr>\n    <tr>\n      <th>2</th>\n      <td>1222815</td>\n      <td>60</td>\n      <td>이마트 청계점</td>\n      <td>271</td>\n      <td>배추(중간)</td>\n      <td>1포기 2.5kg</td>\n      <td>3980</td>\n      <td>2018-04</td>\n      <td>NaN</td>\n      <td>2018-04-19</td>\n      <td>2</td>\n      <td>대형마트</td>\n      <td>140000</td>\n      <td>중구</td>\n    </tr>\n    <tr>\n      <th>3</th>\n      <td>1222816</td>\n      <td>60</td>\n      <td>이마트 청계점</td>\n      <td>133</td>\n      <td>무(세척무)</td>\n      <td>1개</td>\n      <td>2280</td>\n      <td>2018-04</td>\n      <td>NaN</td>\n      <td>2018-04-19</td>\n      <td>2</td>\n      <td>대형마트</td>\n      <td>140000</td>\n      <td>중구</td>\n    </tr>\n    <tr>\n      <th>4</th>\n      <td>1222817</td>\n      <td>60</td>\n      <td>이마트 청계점</td>\n      <td>309</td>\n      <td>양파(1.5kg망)</td>\n      <td>1망</td>\n      <td>2780</td>\n      <td>2018-04</td>\n      <td>NaN</td>\n      <td>2018-04-19</td>\n      <td>2</td>\n      <td>대형마트</td>\n      <td>140000</td>\n      <td>중구</td>\n    </tr>\n  </tbody>\n</table>\n</div>",
            "text/plain": "        NO  M-N0   M-NAME  P-NO        P-NAME       SIZE  PRICE     YEAR  ETC  \\\n0  1222813    60  이마트 청계점   305  사과(부사, 300g)         1개   1750  2018-04  NaN   \n1  1222814    60  이마트 청계점   284         배(중품)         1개   2200  2018-04  NaN   \n2  1222815    60  이마트 청계점   271        배추(중간)  1포기 2.5kg   3980  2018-04  NaN   \n3  1222816    60  이마트 청계점   133        무(세척무)         1개   2280  2018-04  NaN   \n4  1222817    60  이마트 청계점   309    양파(1.5kg망)         1망   2780  2018-04  NaN   \n\n   CHECK-DATE  MTYPE-NO MART-TYPE  A-CODE A-NAME  \n0  2018-04-19         2      대형마트  140000     중구  \n1  2018-04-19         2      대형마트  140000     중구  \n2  2018-04-19         2      대형마트  140000     중구  \n3  2018-04-19         2      대형마트  140000     중구  \n4  2018-04-19         2      대형마트  140000     중구  "
          },
          "execution_count": 58,
          "metadata": {},
          "output_type": "execute_result"
        }
      ]
    },
    {
      "metadata": {
        "trusted": false
      },
      "cell_type": "code",
      "source": "df.tail(5)",
      "execution_count": 59,
      "outputs": [
        {
          "data": {
            "text/html": "<div>\n<style>\n    .dataframe thead tr:only-child th {\n        text-align: right;\n    }\n\n    .dataframe thead th {\n        text-align: left;\n    }\n\n    .dataframe tbody tr th {\n        vertical-align: top;\n    }\n</style>\n<table border=\"1\" class=\"dataframe\">\n  <thead>\n    <tr style=\"text-align: right;\">\n      <th></th>\n      <th>NO</th>\n      <th>M-N0</th>\n      <th>M-NAME</th>\n      <th>P-NO</th>\n      <th>P-NAME</th>\n      <th>SIZE</th>\n      <th>PRICE</th>\n      <th>YEAR</th>\n      <th>ETC</th>\n      <th>CHECK-DATE</th>\n      <th>MTYPE-NO</th>\n      <th>MART-TYPE</th>\n      <th>A-CODE</th>\n      <th>A-NAME</th>\n    </tr>\n  </thead>\n  <tbody>\n    <tr>\n      <th>11910</th>\n      <td>1147350</td>\n      <td>16</td>\n      <td>현대백화점 미아점</td>\n      <td>320</td>\n      <td>달걀(30개)</td>\n      <td>30개 (1판)</td>\n      <td>11000</td>\n      <td>2017-10</td>\n      <td>텃골1등급특란</td>\n      <td>2017-10-30</td>\n      <td>2</td>\n      <td>대형마트</td>\n      <td>290000</td>\n      <td>성북구</td>\n    </tr>\n    <tr>\n      <th>11911</th>\n      <td>1147351</td>\n      <td>16</td>\n      <td>현대백화점 미아점</td>\n      <td>136</td>\n      <td>조기(국산,생물)</td>\n      <td>1마리 (20cm)</td>\n      <td>0</td>\n      <td>2017-10</td>\n      <td>입고안됨</td>\n      <td>2017-10-30</td>\n      <td>2</td>\n      <td>대형마트</td>\n      <td>290000</td>\n      <td>성북구</td>\n    </tr>\n    <tr>\n      <th>11912</th>\n      <td>1147352</td>\n      <td>16</td>\n      <td>현대백화점 미아점</td>\n      <td>152</td>\n      <td>명태(러시아,냉동)</td>\n      <td>1마리(35cm)</td>\n      <td>0</td>\n      <td>2017-10</td>\n      <td>입고안됨</td>\n      <td>2017-10-30</td>\n      <td>2</td>\n      <td>대형마트</td>\n      <td>290000</td>\n      <td>성북구</td>\n    </tr>\n    <tr>\n      <th>11913</th>\n      <td>1147353</td>\n      <td>16</td>\n      <td>현대백화점 미아점</td>\n      <td>254</td>\n      <td>오징어(생물,국산)</td>\n      <td>1마리(25cm)</td>\n      <td>6000</td>\n      <td>2017-10</td>\n      <td>NaN</td>\n      <td>2017-10-30</td>\n      <td>2</td>\n      <td>대형마트</td>\n      <td>290000</td>\n      <td>성북구</td>\n    </tr>\n    <tr>\n      <th>11914</th>\n      <td>1147354</td>\n      <td>16</td>\n      <td>현대백화점 미아점</td>\n      <td>266</td>\n      <td>고등어(생물,국산)</td>\n      <td>1마리(30cm)</td>\n      <td>8000</td>\n      <td>2017-10</td>\n      <td>大</td>\n      <td>2017-10-30</td>\n      <td>2</td>\n      <td>대형마트</td>\n      <td>290000</td>\n      <td>성북구</td>\n    </tr>\n  </tbody>\n</table>\n</div>",
            "text/plain": "            NO  M-N0     M-NAME  P-NO      P-NAME        SIZE  PRICE     YEAR  \\\n11910  1147350    16  현대백화점 미아점   320     달걀(30개)    30개 (1판)  11000  2017-10   \n11911  1147351    16  현대백화점 미아점   136   조기(국산,생물)  1마리 (20cm)      0  2017-10   \n11912  1147352    16  현대백화점 미아점   152  명태(러시아,냉동)   1마리(35cm)      0  2017-10   \n11913  1147353    16  현대백화점 미아점   254  오징어(생물,국산)  1마리(25cm)    6000  2017-10   \n11914  1147354    16  현대백화점 미아점   266  고등어(생물,국산)   1마리(30cm)   8000  2017-10   \n\n           ETC  CHECK-DATE  MTYPE-NO MART-TYPE  A-CODE A-NAME  \n11910  텃골1등급특란  2017-10-30         2      대형마트  290000    성북구  \n11911     입고안됨  2017-10-30         2      대형마트  290000    성북구  \n11912     입고안됨  2017-10-30         2      대형마트  290000    성북구  \n11913      NaN  2017-10-30         2      대형마트  290000    성북구  \n11914        大  2017-10-30         2      대형마트  290000    성북구  "
          },
          "execution_count": 59,
          "metadata": {},
          "output_type": "execute_result"
        }
      ]
    },
    {
      "metadata": {},
      "cell_type": "markdown",
      "source": "## NaN?"
    },
    {
      "metadata": {
        "trusted": false
      },
      "cell_type": "code",
      "source": "df['ETC'].isnull().sum()",
      "execution_count": 62,
      "outputs": [
        {
          "data": {
            "text/plain": "2477"
          },
          "execution_count": 62,
          "metadata": {},
          "output_type": "execute_result"
        }
      ]
    },
    {
      "metadata": {},
      "cell_type": "markdown",
      "source": "## 헤더가 없는 csv 파일 불러오기 "
    },
    {
      "metadata": {
        "trusted": false
      },
      "cell_type": "code",
      "source": "!cat ./data/no-header.csv",
      "execution_count": 63,
      "outputs": [
        {
          "name": "stdout",
          "output_type": "stream",
          "text": "둘리, 100, 5000\r\n도우너, 10, 100\r\n김희동, 3, 10"
        }
      ]
    },
    {
      "metadata": {
        "trusted": false
      },
      "cell_type": "code",
      "source": "df = pd.read_csv('./data/no-header.csv', header=None)\ndf.columns = ['name', 'age', 'money']\ndf",
      "execution_count": 66,
      "outputs": [
        {
          "data": {
            "text/html": "<div>\n<style>\n    .dataframe thead tr:only-child th {\n        text-align: right;\n    }\n\n    .dataframe thead th {\n        text-align: left;\n    }\n\n    .dataframe tbody tr th {\n        vertical-align: top;\n    }\n</style>\n<table border=\"1\" class=\"dataframe\">\n  <thead>\n    <tr style=\"text-align: right;\">\n      <th></th>\n      <th>name</th>\n      <th>age</th>\n      <th>money</th>\n    </tr>\n  </thead>\n  <tbody>\n    <tr>\n      <th>0</th>\n      <td>둘리</td>\n      <td>100</td>\n      <td>5000</td>\n    </tr>\n    <tr>\n      <th>1</th>\n      <td>도우너</td>\n      <td>10</td>\n      <td>100</td>\n    </tr>\n    <tr>\n      <th>2</th>\n      <td>김희동</td>\n      <td>3</td>\n      <td>10</td>\n    </tr>\n  </tbody>\n</table>\n</div>",
            "text/plain": "  name  age  money\n0   둘리  100   5000\n1  도우너   10    100\n2  김희동    3     10"
          },
          "execution_count": 66,
          "metadata": {},
          "output_type": "execute_result"
        }
      ]
    },
    {
      "metadata": {
        "trusted": false
      },
      "cell_type": "code",
      "source": "df = pd.read_csv('./data/no-header.csv',\n                 header=None, \n                 names=['name', 'age', 'money'])\ndf",
      "execution_count": 67,
      "outputs": [
        {
          "data": {
            "text/html": "<div>\n<style>\n    .dataframe thead tr:only-child th {\n        text-align: right;\n    }\n\n    .dataframe thead th {\n        text-align: left;\n    }\n\n    .dataframe tbody tr th {\n        vertical-align: top;\n    }\n</style>\n<table border=\"1\" class=\"dataframe\">\n  <thead>\n    <tr style=\"text-align: right;\">\n      <th></th>\n      <th>name</th>\n      <th>age</th>\n      <th>money</th>\n    </tr>\n  </thead>\n  <tbody>\n    <tr>\n      <th>0</th>\n      <td>둘리</td>\n      <td>100</td>\n      <td>5000</td>\n    </tr>\n    <tr>\n      <th>1</th>\n      <td>도우너</td>\n      <td>10</td>\n      <td>100</td>\n    </tr>\n    <tr>\n      <th>2</th>\n      <td>김희동</td>\n      <td>3</td>\n      <td>10</td>\n    </tr>\n  </tbody>\n</table>\n</div>",
            "text/plain": "  name  age  money\n0   둘리  100   5000\n1  도우너   10    100\n2  김희동    3     10"
          },
          "execution_count": 67,
          "metadata": {},
          "output_type": "execute_result"
        }
      ]
    },
    {
      "metadata": {},
      "cell_type": "markdown",
      "source": "## 인덱스 지정해 보기 \n"
    },
    {
      "metadata": {
        "trusted": false
      },
      "cell_type": "code",
      "source": "dateIndex = pd.date_range('2018-1-1',periods=3, freq='1d')",
      "execution_count": 74,
      "outputs": []
    },
    {
      "metadata": {
        "trusted": false
      },
      "cell_type": "code",
      "source": "df.index = dateIndex\ndf",
      "execution_count": 75,
      "outputs": [
        {
          "data": {
            "text/html": "<div>\n<style>\n    .dataframe thead tr:only-child th {\n        text-align: right;\n    }\n\n    .dataframe thead th {\n        text-align: left;\n    }\n\n    .dataframe tbody tr th {\n        vertical-align: top;\n    }\n</style>\n<table border=\"1\" class=\"dataframe\">\n  <thead>\n    <tr style=\"text-align: right;\">\n      <th></th>\n      <th>name</th>\n      <th>age</th>\n      <th>money</th>\n    </tr>\n  </thead>\n  <tbody>\n    <tr>\n      <th>2018-01-01</th>\n      <td>둘리</td>\n      <td>100</td>\n      <td>5000</td>\n    </tr>\n    <tr>\n      <th>2018-01-02</th>\n      <td>도우너</td>\n      <td>10</td>\n      <td>100</td>\n    </tr>\n    <tr>\n      <th>2018-01-03</th>\n      <td>김희동</td>\n      <td>3</td>\n      <td>10</td>\n    </tr>\n  </tbody>\n</table>\n</div>",
            "text/plain": "           name  age  money\n2018-01-01   둘리  100   5000\n2018-01-02  도우너   10    100\n2018-01-03  김희동    3     10"
          },
          "execution_count": 75,
          "metadata": {},
          "output_type": "execute_result"
        }
      ]
    },
    {
      "metadata": {},
      "cell_type": "markdown",
      "source": "## reset index\nreset_index() 를 사용하면, index 값이 일반 컬럼으로 바뀐다. "
    },
    {
      "metadata": {
        "trusted": false
      },
      "cell_type": "code",
      "source": "df.reset_index()",
      "execution_count": 77,
      "outputs": [
        {
          "data": {
            "text/html": "<div>\n<style>\n    .dataframe thead tr:only-child th {\n        text-align: right;\n    }\n\n    .dataframe thead th {\n        text-align: left;\n    }\n\n    .dataframe tbody tr th {\n        vertical-align: top;\n    }\n</style>\n<table border=\"1\" class=\"dataframe\">\n  <thead>\n    <tr style=\"text-align: right;\">\n      <th></th>\n      <th>index</th>\n      <th>name</th>\n      <th>age</th>\n      <th>money</th>\n    </tr>\n  </thead>\n  <tbody>\n    <tr>\n      <th>0</th>\n      <td>2018-01-01</td>\n      <td>둘리</td>\n      <td>100</td>\n      <td>5000</td>\n    </tr>\n    <tr>\n      <th>1</th>\n      <td>2018-01-02</td>\n      <td>도우너</td>\n      <td>10</td>\n      <td>100</td>\n    </tr>\n    <tr>\n      <th>2</th>\n      <td>2018-01-03</td>\n      <td>김희동</td>\n      <td>3</td>\n      <td>10</td>\n    </tr>\n  </tbody>\n</table>\n</div>",
            "text/plain": "       index name  age  money\n0 2018-01-01   둘리  100   5000\n1 2018-01-02  도우너   10    100\n2 2018-01-03  김희동    3     10"
          },
          "execution_count": 77,
          "metadata": {},
          "output_type": "execute_result"
        }
      ]
    },
    {
      "metadata": {
        "trusted": false
      },
      "cell_type": "code",
      "source": "",
      "execution_count": null,
      "outputs": []
    },
    {
      "metadata": {},
      "cell_type": "markdown",
      "source": "## Series의 조합으로 DataFrame 만들기 "
    },
    {
      "metadata": {
        "trusted": false
      },
      "cell_type": "code",
      "source": "s1 = pd.Series(['둘리','길동' ,'희동'], index = ['a','b','c'])\ns1",
      "execution_count": 79,
      "outputs": [
        {
          "data": {
            "text/plain": "a    둘리\nb    길동\nc    희동\ndtype: object"
          },
          "execution_count": 79,
          "metadata": {},
          "output_type": "execute_result"
        }
      ]
    },
    {
      "metadata": {
        "trusted": false
      },
      "cell_type": "code",
      "source": "s2 = pd.Series([10, 20, 30], index = ['c','a','b'])\ns2",
      "execution_count": 78,
      "outputs": [
        {
          "data": {
            "text/plain": "c    10\na    20\nb    30\ndtype: int64"
          },
          "execution_count": 78,
          "metadata": {},
          "output_type": "execute_result"
        }
      ]
    },
    {
      "metadata": {
        "trusted": false
      },
      "cell_type": "code",
      "source": "df = pd.DataFrame({'name': s1, 'price': s2})\ndf",
      "execution_count": 80,
      "outputs": [
        {
          "data": {
            "text/html": "<div>\n<style>\n    .dataframe thead tr:only-child th {\n        text-align: right;\n    }\n\n    .dataframe thead th {\n        text-align: left;\n    }\n\n    .dataframe tbody tr th {\n        vertical-align: top;\n    }\n</style>\n<table border=\"1\" class=\"dataframe\">\n  <thead>\n    <tr style=\"text-align: right;\">\n      <th></th>\n      <th>name</th>\n      <th>price</th>\n    </tr>\n  </thead>\n  <tbody>\n    <tr>\n      <th>a</th>\n      <td>둘리</td>\n      <td>20</td>\n    </tr>\n    <tr>\n      <th>b</th>\n      <td>길동</td>\n      <td>30</td>\n    </tr>\n    <tr>\n      <th>c</th>\n      <td>희동</td>\n      <td>10</td>\n    </tr>\n  </tbody>\n</table>\n</div>",
            "text/plain": "  name  price\na   둘리     20\nb   길동     30\nc   희동     10"
          },
          "execution_count": 80,
          "metadata": {},
          "output_type": "execute_result"
        }
      ]
    },
    {
      "metadata": {},
      "cell_type": "markdown",
      "source": "## csv로 저장하기\n- 조장가능한 매개변수: index, header, na_rep"
    },
    {
      "metadata": {
        "trusted": false
      },
      "cell_type": "code",
      "source": "df = pd.read_csv('./data/no-header.csv',\n                 header=None, \n                 names=['name', 'age', 'money'])\ndf",
      "execution_count": 81,
      "outputs": [
        {
          "data": {
            "text/html": "<div>\n<style>\n    .dataframe thead tr:only-child th {\n        text-align: right;\n    }\n\n    .dataframe thead th {\n        text-align: left;\n    }\n\n    .dataframe tbody tr th {\n        vertical-align: top;\n    }\n</style>\n<table border=\"1\" class=\"dataframe\">\n  <thead>\n    <tr style=\"text-align: right;\">\n      <th></th>\n      <th>name</th>\n      <th>age</th>\n      <th>money</th>\n    </tr>\n  </thead>\n  <tbody>\n    <tr>\n      <th>0</th>\n      <td>둘리</td>\n      <td>100</td>\n      <td>5000</td>\n    </tr>\n    <tr>\n      <th>1</th>\n      <td>도우너</td>\n      <td>10</td>\n      <td>100</td>\n    </tr>\n    <tr>\n      <th>2</th>\n      <td>김희동</td>\n      <td>3</td>\n      <td>10</td>\n    </tr>\n  </tbody>\n</table>\n</div>",
            "text/plain": "  name  age  money\n0   둘리  100   5000\n1  도우너   10    100\n2  김희동    3     10"
          },
          "execution_count": 81,
          "metadata": {},
          "output_type": "execute_result"
        }
      ]
    },
    {
      "metadata": {
        "trusted": false
      },
      "cell_type": "code",
      "source": "import numpy as np ",
      "execution_count": 82,
      "outputs": []
    },
    {
      "metadata": {
        "trusted": false
      },
      "cell_type": "code",
      "source": "df.iloc[2,2] = np.NaN\ndf",
      "execution_count": 83,
      "outputs": [
        {
          "data": {
            "text/html": "<div>\n<style>\n    .dataframe thead tr:only-child th {\n        text-align: right;\n    }\n\n    .dataframe thead th {\n        text-align: left;\n    }\n\n    .dataframe tbody tr th {\n        vertical-align: top;\n    }\n</style>\n<table border=\"1\" class=\"dataframe\">\n  <thead>\n    <tr style=\"text-align: right;\">\n      <th></th>\n      <th>name</th>\n      <th>age</th>\n      <th>money</th>\n    </tr>\n  </thead>\n  <tbody>\n    <tr>\n      <th>0</th>\n      <td>둘리</td>\n      <td>100</td>\n      <td>5000.0</td>\n    </tr>\n    <tr>\n      <th>1</th>\n      <td>도우너</td>\n      <td>10</td>\n      <td>100.0</td>\n    </tr>\n    <tr>\n      <th>2</th>\n      <td>김희동</td>\n      <td>3</td>\n      <td>NaN</td>\n    </tr>\n  </tbody>\n</table>\n</div>",
            "text/plain": "  name  age   money\n0   둘리  100  5000.0\n1  도우너   10   100.0\n2  김희동    3     NaN"
          },
          "execution_count": 83,
          "metadata": {},
          "output_type": "execute_result"
        }
      ]
    },
    {
      "metadata": {
        "trusted": false
      },
      "cell_type": "code",
      "source": "# df.to_csv('./data/panda_file.csv', index=None, header=None)\ndf.to_csv('./data/panda_file.csv')",
      "execution_count": 90,
      "outputs": []
    },
    {
      "metadata": {
        "trusted": false
      },
      "cell_type": "code",
      "source": "!ls ./data",
      "execution_count": 85,
      "outputs": [
        {
          "name": "stdout",
          "output_type": "stream",
          "text": "data-header.csv  mongo.xls  no-header.csv  panda_file.csv  seoul-data.csv\r\n"
        }
      ]
    },
    {
      "metadata": {
        "trusted": false
      },
      "cell_type": "code",
      "source": "!cat ./data/panda_file.csv",
      "execution_count": 91,
      "outputs": [
        {
          "name": "stdout",
          "output_type": "stream",
          "text": ",name,age,money\r\n0,둘리,100,5000.0\r\n1,도우너,10,100.0\r\n2,김희동,3,\r\n"
        }
      ]
    },
    {
      "metadata": {
        "trusted": false
      },
      "cell_type": "code",
      "source": "#df = pd.read_csv('./data/panda_file.csv', index_col=0)\ndf = pd.read_csv('./data/panda_file.csv', index_col = 0)\ndf",
      "execution_count": 93,
      "outputs": [
        {
          "data": {
            "text/html": "<div>\n<style>\n    .dataframe thead tr:only-child th {\n        text-align: right;\n    }\n\n    .dataframe thead th {\n        text-align: left;\n    }\n\n    .dataframe tbody tr th {\n        vertical-align: top;\n    }\n</style>\n<table border=\"1\" class=\"dataframe\">\n  <thead>\n    <tr style=\"text-align: right;\">\n      <th></th>\n      <th>name</th>\n      <th>age</th>\n      <th>money</th>\n    </tr>\n  </thead>\n  <tbody>\n    <tr>\n      <th>0</th>\n      <td>둘리</td>\n      <td>100</td>\n      <td>5000.0</td>\n    </tr>\n    <tr>\n      <th>1</th>\n      <td>도우너</td>\n      <td>10</td>\n      <td>100.0</td>\n    </tr>\n    <tr>\n      <th>2</th>\n      <td>김희동</td>\n      <td>3</td>\n      <td>NaN</td>\n    </tr>\n  </tbody>\n</table>\n</div>",
            "text/plain": "  name  age   money\n0   둘리  100  5000.0\n1  도우너   10   100.0\n2  김희동    3     NaN"
          },
          "execution_count": 93,
          "metadata": {},
          "output_type": "execute_result"
        }
      ]
    },
    {
      "metadata": {
        "trusted": false
      },
      "cell_type": "code",
      "source": "",
      "execution_count": null,
      "outputs": []
    }
  ],
  "metadata": {
    "kernelspec": {
      "name": "python36",
      "display_name": "Python 3.6",
      "language": "python"
    },
    "language_info": {
      "mimetype": "text/x-python",
      "nbconvert_exporter": "python",
      "name": "python",
      "pygments_lexer": "ipython3",
      "version": "3.6.6",
      "file_extension": ".py",
      "codemirror_mode": {
        "version": 3,
        "name": "ipython"
      }
    }
  },
  "nbformat": 4,
  "nbformat_minor": 2
}
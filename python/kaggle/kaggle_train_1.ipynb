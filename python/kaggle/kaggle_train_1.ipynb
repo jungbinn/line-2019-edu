{
 "cells": [
  {
   "cell_type": "code",
   "execution_count": 2,
   "metadata": {},
   "outputs": [],
   "source": [
    "import pandas as pd"
   ]
  },
  {
   "cell_type": "code",
   "execution_count": 5,
   "metadata": {},
   "outputs": [],
   "source": [
    "df = pd.read_csv(\"./kaggle_titanic/test.csv\")"
   ]
  },
  {
   "cell_type": "code",
   "execution_count": 168,
   "metadata": {},
   "outputs": [],
   "source": [
    "# 여성 1등급 90% 생존\n",
    "# 여성 2등급 70%생존\n",
    "# 여성 3등급 50%생존\n",
    "\n",
    "# 남성 1등급 70% 생존\n",
    "# 남성 2등급 40% 생존\n",
    "# 남성 3등급 10% 생존\n",
    "\n",
    "\n",
    "dfFemale = df [df[\"Sex\"] == \"female\"]\n",
    "dfMale = df [df[\"Sex\"] == \"male\"]"
   ]
  },
  {
   "cell_type": "code",
   "execution_count": 106,
   "metadata": {},
   "outputs": [
    {
     "data": {
      "text/html": [
       "<div>\n",
       "<style scoped>\n",
       "    .dataframe tbody tr th:only-of-type {\n",
       "        vertical-align: middle;\n",
       "    }\n",
       "\n",
       "    .dataframe tbody tr th {\n",
       "        vertical-align: top;\n",
       "    }\n",
       "\n",
       "    .dataframe thead th {\n",
       "        text-align: right;\n",
       "    }\n",
       "</style>\n",
       "<table border=\"1\" class=\"dataframe\">\n",
       "  <thead>\n",
       "    <tr style=\"text-align: right;\">\n",
       "      <th></th>\n",
       "      <th>PassengerId</th>\n",
       "      <th>Survived</th>\n",
       "      <th>Pclass</th>\n",
       "      <th>Name</th>\n",
       "      <th>Sex</th>\n",
       "      <th>Age</th>\n",
       "      <th>SibSp</th>\n",
       "      <th>Parch</th>\n",
       "      <th>Ticket</th>\n",
       "      <th>Fare</th>\n",
       "      <th>Cabin</th>\n",
       "      <th>Embarked</th>\n",
       "    </tr>\n",
       "  </thead>\n",
       "  <tbody>\n",
       "    <tr>\n",
       "      <th>20</th>\n",
       "      <td>21</td>\n",
       "      <td>0</td>\n",
       "      <td>2</td>\n",
       "      <td>Fynney, Mr. Joseph J</td>\n",
       "      <td>male</td>\n",
       "      <td>35.0</td>\n",
       "      <td>0</td>\n",
       "      <td>0</td>\n",
       "      <td>239865</td>\n",
       "      <td>26.0</td>\n",
       "      <td>NaN</td>\n",
       "      <td>S</td>\n",
       "    </tr>\n",
       "    <tr>\n",
       "      <th>21</th>\n",
       "      <td>22</td>\n",
       "      <td>1</td>\n",
       "      <td>2</td>\n",
       "      <td>Beesley, Mr. Lawrence</td>\n",
       "      <td>male</td>\n",
       "      <td>34.0</td>\n",
       "      <td>0</td>\n",
       "      <td>0</td>\n",
       "      <td>248698</td>\n",
       "      <td>13.0</td>\n",
       "      <td>D56</td>\n",
       "      <td>S</td>\n",
       "    </tr>\n",
       "    <tr>\n",
       "      <th>33</th>\n",
       "      <td>34</td>\n",
       "      <td>0</td>\n",
       "      <td>2</td>\n",
       "      <td>Wheadon, Mr. Edward H</td>\n",
       "      <td>male</td>\n",
       "      <td>66.0</td>\n",
       "      <td>0</td>\n",
       "      <td>0</td>\n",
       "      <td>C.A. 24579</td>\n",
       "      <td>10.5</td>\n",
       "      <td>NaN</td>\n",
       "      <td>S</td>\n",
       "    </tr>\n",
       "    <tr>\n",
       "      <th>70</th>\n",
       "      <td>71</td>\n",
       "      <td>0</td>\n",
       "      <td>2</td>\n",
       "      <td>Jenkin, Mr. Stephen Curnow</td>\n",
       "      <td>male</td>\n",
       "      <td>32.0</td>\n",
       "      <td>0</td>\n",
       "      <td>0</td>\n",
       "      <td>C.A. 33111</td>\n",
       "      <td>10.5</td>\n",
       "      <td>NaN</td>\n",
       "      <td>S</td>\n",
       "    </tr>\n",
       "  </tbody>\n",
       "</table>\n",
       "</div>"
      ],
      "text/plain": [
       "    PassengerId  Survived  Pclass                        Name   Sex   Age  \\\n",
       "20           21         0       2        Fynney, Mr. Joseph J  male  35.0   \n",
       "21           22         1       2       Beesley, Mr. Lawrence  male  34.0   \n",
       "33           34         0       2       Wheadon, Mr. Edward H  male  66.0   \n",
       "70           71         0       2  Jenkin, Mr. Stephen Curnow  male  32.0   \n",
       "\n",
       "    SibSp  Parch      Ticket  Fare Cabin Embarked  \n",
       "20      0      0      239865  26.0   NaN        S  \n",
       "21      0      0      248698  13.0   D56        S  \n",
       "33      0      0  C.A. 24579  10.5   NaN        S  \n",
       "70      0      0  C.A. 33111  10.5   NaN        S  "
      ]
     },
     "execution_count": 106,
     "metadata": {},
     "output_type": "execute_result"
    }
   ],
   "source": [
    "dfMalePClass2.iloc[[1,2,3,4]]"
   ]
  },
  {
   "cell_type": "code",
   "execution_count": 105,
   "metadata": {},
   "outputs": [],
   "source": [
    "import numpy as np"
   ]
  },
  {
   "cell_type": "code",
   "execution_count": 17,
   "metadata": {},
   "outputs": [
    {
     "ename": "AttributeError",
     "evalue": "'tuple' object has no attribute 'append'",
     "output_type": "error",
     "traceback": [
      "\u001b[0;31m---------------------------------------------------------------------------\u001b[0m",
      "\u001b[0;31mAttributeError\u001b[0m                            Traceback (most recent call last)",
      "\u001b[0;32m<ipython-input-17-b29121f4aaca>\u001b[0m in \u001b[0;36m<module>\u001b[0;34m\u001b[0m\n\u001b[1;32m     17\u001b[0m ]\n\u001b[1;32m     18\u001b[0m \u001b[0;34m\u001b[0m\u001b[0m\n\u001b[0;32m---> 19\u001b[0;31m \u001b[0mresultDf\u001b[0m \u001b[0;34m=\u001b[0m \u001b[0mreduce\u001b[0m\u001b[0;34m(\u001b[0m\u001b[0;34m(\u001b[0m\u001b[0;32mlambda\u001b[0m \u001b[0mx\u001b[0m\u001b[0;34m,\u001b[0m \u001b[0my\u001b[0m\u001b[0;34m:\u001b[0m \u001b[0mx\u001b[0m\u001b[0;34m.\u001b[0m\u001b[0mappend\u001b[0m\u001b[0;34m(\u001b[0m\u001b[0mmask\u001b[0m\u001b[0;34m(\u001b[0m\u001b[0mx\u001b[0m\u001b[0;34m,\u001b[0m \u001b[0my\u001b[0m\u001b[0;34m)\u001b[0m\u001b[0;34m)\u001b[0m\u001b[0;34m)\u001b[0m\u001b[0;34m,\u001b[0m \u001b[0mconfig\u001b[0m\u001b[0;34m)\u001b[0m\u001b[0;34m\u001b[0m\u001b[0;34m\u001b[0m\u001b[0m\n\u001b[0m\u001b[1;32m     20\u001b[0m \u001b[0;31m# dfMClass1 = dfMale[dfMale[\"Pclass\"] == 1]\u001b[0m\u001b[0;34m\u001b[0m\u001b[0;34m\u001b[0m\u001b[0;34m\u001b[0m\u001b[0m\n\u001b[1;32m     21\u001b[0m \u001b[0;31m# dfMClass2 = dfMale[dfMale[\"Pclass\"] == 2]\u001b[0m\u001b[0;34m\u001b[0m\u001b[0;34m\u001b[0m\u001b[0;34m\u001b[0m\u001b[0m\n",
      "\u001b[0;32m<ipython-input-17-b29121f4aaca>\u001b[0m in \u001b[0;36m<lambda>\u001b[0;34m(x, y)\u001b[0m\n\u001b[1;32m     17\u001b[0m ]\n\u001b[1;32m     18\u001b[0m \u001b[0;34m\u001b[0m\u001b[0m\n\u001b[0;32m---> 19\u001b[0;31m \u001b[0mresultDf\u001b[0m \u001b[0;34m=\u001b[0m \u001b[0mreduce\u001b[0m\u001b[0;34m(\u001b[0m\u001b[0;34m(\u001b[0m\u001b[0;32mlambda\u001b[0m \u001b[0mx\u001b[0m\u001b[0;34m,\u001b[0m \u001b[0my\u001b[0m\u001b[0;34m:\u001b[0m \u001b[0mx\u001b[0m\u001b[0;34m.\u001b[0m\u001b[0mappend\u001b[0m\u001b[0;34m(\u001b[0m\u001b[0mmask\u001b[0m\u001b[0;34m(\u001b[0m\u001b[0mx\u001b[0m\u001b[0;34m,\u001b[0m \u001b[0my\u001b[0m\u001b[0;34m)\u001b[0m\u001b[0;34m)\u001b[0m\u001b[0;34m)\u001b[0m\u001b[0;34m,\u001b[0m \u001b[0mconfig\u001b[0m\u001b[0;34m)\u001b[0m\u001b[0;34m\u001b[0m\u001b[0;34m\u001b[0m\u001b[0m\n\u001b[0m\u001b[1;32m     20\u001b[0m \u001b[0;31m# dfMClass1 = dfMale[dfMale[\"Pclass\"] == 1]\u001b[0m\u001b[0;34m\u001b[0m\u001b[0;34m\u001b[0m\u001b[0;34m\u001b[0m\u001b[0m\n\u001b[1;32m     21\u001b[0m \u001b[0;31m# dfMClass2 = dfMale[dfMale[\"Pclass\"] == 2]\u001b[0m\u001b[0;34m\u001b[0m\u001b[0;34m\u001b[0m\u001b[0;34m\u001b[0m\u001b[0m\n",
      "\u001b[0;31mAttributeError\u001b[0m: 'tuple' object has no attribute 'append'"
     ]
    }
   ],
   "source": [
    "from functools import reduce\n",
    "def mask(df, arg):\n",
    "    (sex, pclass, ratio) = arg\n",
    "    dfclass = df [df[\"Sex\"] == sex and dfclass[\"Pclass\"] == pclass]\n",
    "    maskClass = np.random.randint(len(dfclass), size=int(len(dfclass)*ratio))\n",
    "    dfclass = dfclass.ilic[maskClass]\n",
    "    print(typeof(dfclass))\n",
    "    return dfclass\n",
    "\n",
    "config = [\n",
    "    ('male', 1, 0.7),\n",
    "    ('male', 2, 0.4),\n",
    "    ('male', 3, 0.1),\n",
    "    ('female', 1, 0.9),\n",
    "    ('female', 2, 0.7),\n",
    "    ('female', 3, 0.5),\n",
    "]\n",
    "\n",
    "resultDf = reduce((lambda x, y: x.append(mask(x, y))), config)\n",
    "# dfMClass1 = dfMale[dfMale[\"Pclass\"] == 1]\n",
    "# dfMClass2 = dfMale[dfMale[\"Pclass\"] == 2]\n",
    "# dfMClass3 = dfMale[dfMale[\"Pclass\"] == 3]\n",
    "\n",
    "# maskMClass1= np.random.randint(len(dfMClass1), size=int(len(dfMClass1)*0.7))\n",
    "# dfMClass1 = dfMClass1.iloc[maskMClass1]\n",
    "\n",
    "# maskMClass2 = np.random.randint(len(dfMClass2), size=int(len(dfMClass2)*0.4))\n",
    "# dfMClass2 = dfMClass2.iloc[maskMClass2]\n",
    "\n",
    "# maskMClass3 = np.random.randint(len(dfMClass3), size=int(len(dfMClass2)*0.1))\n",
    "# dfMClass3 = dfMClass3.iloc[maskMClass3]\n",
    "\n",
    "# dfFClass1 = dfFemale[dfFemale[\"Pclass\"] == 1]\n",
    "# dfFClass2 = dfFemale[dfFemale[\"Pclass\"] == 2]\n",
    "# dfFClass3 = dfFemale[dfFemale[\"Pclass\"] == 3]\n",
    "\n",
    "# maskFClass1= np.random.randint(len(dfFClass1), size=int(len(dfFClass1)*0.9))\n",
    "# dfFClass1 = dfFClass1.iloc[maskFClass1]\n",
    "\n",
    "# maskFClass2 = np.random.randint(len(dfFClass2), size=int(len(dfFClass2)*0.7))\n",
    "# dfFClass2 = dfFClass2.iloc[maskFClass2]\n",
    "\n",
    "# maskFClass3 = np.random.randint(len(dfFClass3), size=int(len(dfFClass2)*0.5))\n",
    "# dfFClass3 = dfFClass3.iloc[maskFClass3]\n",
    "\n",
    "# resultDf = dfMClass1.append(dfMClass2)\n",
    "# resultDf = resultDf.append(dfMClass3)\n",
    "# resultDf = resultDf.append(dfFClass1)\n",
    "# resultDf = resultDf.append(dfFClass2)\n",
    "# resultDf = resultDf.append(dfFClass3)"
   ]
  },
  {
   "cell_type": "code",
   "execution_count": 172,
   "metadata": {
    "scrolled": true
   },
   "outputs": [],
   "source": [
    "resultMask = resultDf[\"PassengerId\"].values\n",
    "\n",
    "def deadOrAlive(mask):\n",
    "    if mask in resultMask:\n",
    "        return 1\n",
    "    else:\n",
    "        return 0\n",
    "    \n",
    "df[\"Survived\"] = df[\"PassengerId\"].apply(deadOrAlive)\n",
    "# df[\"Survived\"] = 0\n",
    "# df.iloc[resultMask]"
   ]
  },
  {
   "cell_type": "code",
   "execution_count": 173,
   "metadata": {},
   "outputs": [],
   "source": [
    "result = df[[\"PassengerId\", \"Survived\"]]"
   ]
  },
  {
   "cell_type": "code",
   "execution_count": 174,
   "metadata": {},
   "outputs": [],
   "source": [
    "result.to_csv(\"a.csv\", index=None)"
   ]
  },
  {
   "cell_type": "code",
   "execution_count": null,
   "metadata": {},
   "outputs": [],
   "source": []
  }
 ],
 "metadata": {
  "kernelspec": {
   "display_name": "Python 3",
   "language": "python",
   "name": "python3"
  },
  "language_info": {
   "codemirror_mode": {
    "name": "ipython",
    "version": 3
   },
   "file_extension": ".py",
   "mimetype": "text/x-python",
   "name": "python",
   "nbconvert_exporter": "python",
   "pygments_lexer": "ipython3",
   "version": "3.6.8"
  }
 },
 "nbformat": 4,
 "nbformat_minor": 2
}

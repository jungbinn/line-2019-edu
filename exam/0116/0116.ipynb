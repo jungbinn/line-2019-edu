{
 "cells": [
  {
   "cell_type": "code",
   "execution_count": 1,
   "metadata": {},
   "outputs": [],
   "source": [
    "import pandas as pd"
   ]
  },
  {
   "cell_type": "code",
   "execution_count": 2,
   "metadata": {},
   "outputs": [],
   "source": [
    "dictCivil = {\n",
    "    \"male1\": {\n",
    "        \"aliveRatio\" : 0.7,\n",
    "        \"df\" : None\n",
    "    },\n",
    "    \"male2\": {\n",
    "        \"aliveRatio\" : 0.4,\n",
    "        \"df\" : None\n",
    "    },\n",
    "    \"male3\": {\n",
    "        \"aliveRatio\" : 0.1,\n",
    "        \"df\" : None\n",
    "    },\n",
    "    \"female1\": {\n",
    "        \"aliveRatio\" : 0.9,\n",
    "        \"df\" : None\n",
    "    },\n",
    "    \"female2\": {\n",
    "        \"aliveRatio\" : 0.7,\n",
    "        \"df\" : None\n",
    "    },\n",
    "    \"female3\": {\n",
    "        \"aliveRatio\" : 0.5,\n",
    "        \"df\" : None\n",
    "    }\n",
    "}\n"
   ]
  },
  {
   "cell_type": "code",
   "execution_count": 4,
   "metadata": {},
   "outputs": [],
   "source": [
    "df = pd.read_csv(\"./test.csv\")\n"
   ]
  },
  {
   "cell_type": "code",
   "execution_count": 5,
   "metadata": {},
   "outputs": [],
   "source": [
    "resultDf = df.__deepcopy__()\n",
    "resultDf = resultDf.iloc[0:0] #.drop(resultDf.index, inplace=True)"
   ]
  },
  {
   "cell_type": "code",
   "execution_count": 6,
   "metadata": {},
   "outputs": [],
   "source": [
    "for key in dictCivil.keys():\n",
    "    currCivil = dictCivil[key]\n",
    "    sex = key[:-1]\n",
    "    pclass = int(key[-1])\n",
    "    currCivil[\"df\"] = df.loc[ (df[\"Sex\"] == sex) & (df[\"Pclass\"] == pclass)]\n",
    "\n",
    "    sampleSize = int(currCivil[\"df\"].shape[0] * currCivil[\"aliveRatio\"])\n",
    "    currCivil[\"df\"] = currCivil[\"df\"].sample(sampleSize)\n",
    "    resultDf = resultDf.append(currCivil[\"df\"])"
   ]
  },
  {
   "cell_type": "code",
   "execution_count": 7,
   "metadata": {},
   "outputs": [],
   "source": [
    "resultMask = resultDf[\"PassengerId\"].values\n",
    "def deadOrAlive(mask):\n",
    "    if mask in resultMask:\n",
    "        return 1\n",
    "    else:\n",
    "        return 0\n",
    "df[\"Survived\"] = df[\"PassengerId\"].apply(deadOrAlive)"
   ]
  },
  {
   "cell_type": "code",
   "execution_count": 8,
   "metadata": {},
   "outputs": [],
   "source": [
    "resultDf = df[[\"PassengerId\", \"Survived\"]]\n",
    "resultDf.to_csv(\"result.csv\", index=None)"
   ]
  },
  {
   "cell_type": "code",
   "execution_count": null,
   "metadata": {},
   "outputs": [],
   "source": []
  }
 ],
 "metadata": {
  "kernelspec": {
   "display_name": "Python 3",
   "language": "python",
   "name": "python3"
  },
  "language_info": {
   "codemirror_mode": {
    "name": "ipython",
    "version": 3
   },
   "file_extension": ".py",
   "mimetype": "text/x-python",
   "name": "python",
   "nbconvert_exporter": "python",
   "pygments_lexer": "ipython3",
   "version": "3.7.2"
  }
 },
 "nbformat": 4,
 "nbformat_minor": 2
}

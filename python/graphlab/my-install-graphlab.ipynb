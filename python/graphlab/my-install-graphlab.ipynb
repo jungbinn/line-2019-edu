{
  "cells": [
    {
      "metadata": {
        "collapsed": true
      },
      "cell_type": "markdown",
      "source": "# Graphlab Create 설치용 파일 \n\n라이브러리 재시작시 설치 내용이 사라지고 커널이 초기화 되기 때문에 이렇게 저장해 놓고 실행하면 편리합니다."
    },
    {
      "metadata": {},
      "cell_type": "markdown",
      "source": "## Graphlab Create 라이센스 얻기\n**라이센스는 https://turi.com/download/academic.html 에서 얻을 수 있습니다. "
    },
    {
      "metadata": {
        "trusted": true
      },
      "cell_type": "code",
      "source": "EMAIL = \"honux@codesquad.kr\" #your email here\nGKEY = \"8A90-24DB-A0E7-928D-DA37-399D-CCE6-FC2C\" #your license here\n!echo $EMAIL $GKEY",
      "execution_count": 1,
      "outputs": [
        {
          "output_type": "stream",
          "text": "honux@codesquad.kr 8A90-24DB-A0E7-928D-DA37-399D-CCE6-FC2C\r\n",
          "name": "stdout"
        }
      ]
    },
    {
      "metadata": {},
      "cell_type": "markdown",
      "source": "## 설치하기 "
    },
    {
      "metadata": {
        "scrolled": false,
        "trusted": true
      },
      "cell_type": "code",
      "source": "!pip install --upgrade --no-cache-dir https://get.graphlab.com/GraphLab-Create/2.1/$EMAIL/$GKEY/GraphLab-Create-License.tar.gz",
      "execution_count": 2,
      "outputs": [
        {
          "output_type": "stream",
          "text": "Collecting https://get.graphlab.com/GraphLab-Create/2.1/honux@codesquad.kr/8A90-24DB-A0E7-928D-DA37-399D-CCE6-FC2C/GraphLab-Create-License.tar.gz\n  Downloading https://get.graphlab.com/GraphLab-Create/2.1/honux@codesquad.kr/8A90-24DB-A0E7-928D-DA37-399D-CCE6-FC2C/GraphLab-Create-License.tar.gz\nCollecting graphlab-create>=2.1 (from GraphLab-Create-License==2.1)\n\u001b[?25l  Downloading https://files.pythonhosted.org/packages/9a/6f/c6a3ae3c7fe8afa85ee60f6c2e2c0bd4f914fa1a1f60af478e826ec05fe8/GraphLab_Create-2.1-py2.7.tar.gz (52.1MB)\n\u001b[K    100% |████████████████████████████████| 52.2MB 1.9MB/s ta 0:00:011�██████████████████████   | 47.3MB 5.7MB/s eta 0:00:01\n\u001b[?25hCollecting psclient (from graphlab-create>=2.1->GraphLab-Create-License==2.1)\n\u001b[?25l  Downloading https://files.pythonhosted.org/packages/df/9c/8b424951a90f230f532dc32b330429b77ff3ef307d1f2ab2b4987f24a6db/psclient-2.0.tar.gz (88kB)\n\u001b[K    100% |████████████████████████████████| 92kB 4.5MB/s ta 0:00:011\n\u001b[?25hCollecting boto==2.33.0 (from graphlab-create>=2.1->GraphLab-Create-License==2.1)\n\u001b[?25l  Downloading https://files.pythonhosted.org/packages/17/2c/f2816e8c526bcb92c0b999bbcf1a2e6855ded628059b14bf1409f82000fd/boto-2.33.0-py2.py3-none-any.whl (1.3MB)\n\u001b[K    100% |████████████████████████████████| 1.3MB 11.5MB/s ta 0:00:01\n\u001b[?25hCollecting decorator==4.0.9 (from graphlab-create>=2.1->GraphLab-Create-License==2.1)\n  Downloading https://files.pythonhosted.org/packages/7d/ca/493b2377bf42d57bdd985c31975be3d2b500ad9079199cecb7633e8e2cde/decorator-4.0.9-py2.py3-none-any.whl\nCollecting tornado==4.3 (from graphlab-create>=2.1->GraphLab-Create-License==2.1)\n\u001b[?25l  Downloading https://files.pythonhosted.org/packages/21/29/e64c97013e97d42d93b3d5997234a6f17455f3744847a7c16289289f8fa6/tornado-4.3.tar.gz (450kB)\n\u001b[K    100% |████████████████████████████████| 460kB 8.6MB/s ta 0:00:01\n\u001b[?25hCollecting prettytable==0.7.2 (from graphlab-create>=2.1->GraphLab-Create-License==2.1)\n  Downloading https://files.pythonhosted.org/packages/ef/30/4b0746848746ed5941f052479e7c23d2b56d174b82f4fd34a25e389831f5/prettytable-0.7.2.tar.bz2\nCollecting requests==2.9.1 (from graphlab-create>=2.1->GraphLab-Create-License==2.1)\n\u001b[?25l  Downloading https://files.pythonhosted.org/packages/b8/f7/3bb4d18c234a8ce7044d5ee2e1082b7d72bf6c550afb8d51ae266dea56f1/requests-2.9.1-py2.py3-none-any.whl (501kB)\n\u001b[K    100% |████████████████████████████████| 501kB 5.5MB/s ta 0:00:011\n\u001b[?25hCollecting awscli==1.6.2 (from graphlab-create>=2.1->GraphLab-Create-License==2.1)\n\u001b[?25l  Downloading https://files.pythonhosted.org/packages/69/ff/82c4e32e87d798aebeeedef0dfec45c4cb87f81313b7d191d48ffbc80391/awscli-1.6.2.tar.gz (268kB)\n\u001b[K    100% |████████████████████████████████| 276kB 2.2MB/s ta 0:00:01\n\u001b[?25hCollecting sseclient==0.0.8 (from graphlab-create>=2.1->GraphLab-Create-License==2.1)\n  Downloading https://files.pythonhosted.org/packages/d8/a8/0006301eefa55b94a0c8bd960280b7e972d2cd27d921361387e1e6bfe76b/sseclient-0.0.8.tar.gz\nRequirement already satisfied, skipping upgrade: multipledispatch>=0.4.7 in /home/nbuser/anaconda2_501/lib/python2.7/site-packages (from graphlab-create>=2.1->GraphLab-Create-License==2.1) (0.6.0)\nCollecting certifi==2015.04.28 (from graphlab-create>=2.1->GraphLab-Create-License==2.1)\n\u001b[?25l  Downloading https://files.pythonhosted.org/packages/86/35/9758a67004a266047c779ae40a3d937869bfc6fc3422f6c606b8afbc9d23/certifi-2015.04.28-py2.py3-none-any.whl (373kB)\n\u001b[K    100% |████████████████████████████████| 378kB 5.7MB/s eta 0:00:01\n\u001b[?25hCollecting jsonschema==2.5.1 (from graphlab-create>=2.1->GraphLab-Create-License==2.1)\n  Downloading https://files.pythonhosted.org/packages/bd/cc/5388547ea3504bd8cbf99ba2ae7a3231598f54038e9b228cbd174f8ec6a1/jsonschema-2.5.1-py2.py3-none-any.whl\nCollecting genson==0.1.0 (from graphlab-create>=2.1->GraphLab-Create-License==2.1)\n  Downloading https://files.pythonhosted.org/packages/9d/8d/123cd25290f008092870c71ffc8f159f04aa7b9dfd5e95053e885d3d355f/genson-0.1.0-py2.py3-none-any.whl\nRequirement already satisfied, skipping upgrade: python-dateutil in /home/nbuser/anaconda2_501/lib/python2.7/site-packages (from psclient->graphlab-create>=2.1->GraphLab-Create-License==2.1) (2.7.5)\nRequirement already satisfied, skipping upgrade: backports.ssl_match_hostname in /home/nbuser/anaconda2_501/lib/python2.7/site-packages (from tornado==4.3->graphlab-create>=2.1->GraphLab-Create-License==2.1) (3.5.0.1)\nRequirement already satisfied, skipping upgrade: singledispatch in /home/nbuser/anaconda2_501/lib/python2.7/site-packages (from tornado==4.3->graphlab-create>=2.1->GraphLab-Create-License==2.1) (3.4.0.3)\nRequirement already satisfied, skipping upgrade: backports_abc>=0.4 in /home/nbuser/anaconda2_501/lib/python2.7/site-packages (from tornado==4.3->graphlab-create>=2.1->GraphLab-Create-License==2.1) (0.5)\nCollecting botocore<0.74.0,>=0.73.0 (from awscli==1.6.2->graphlab-create>=2.1->GraphLab-Create-License==2.1)\n\u001b[?25l  Downloading https://files.pythonhosted.org/packages/20/c9/aa57fdd7775d116083b9415d7f21980a24a9ed33b127a58b6bfc060ec970/botocore-0.73.0.tar.gz (1.2MB)\n\u001b[K    100% |████████████████████████████████| 1.2MB 5.5MB/s ta 0:00:011\n\u001b[?25hCollecting bcdoc<0.13.0,>=0.12.0 (from awscli==1.6.2->graphlab-create>=2.1->GraphLab-Create-License==2.1)\n  Downloading https://files.pythonhosted.org/packages/ab/3e/c29e0fc127565369d8635f4d4510eb3fbaf634c4b36e222976c981a3bbac/bcdoc-0.12.2.tar.gz\nRequirement already satisfied, skipping upgrade: six>=1.1.0 in /home/nbuser/anaconda2_501/lib/python2.7/site-packages (from awscli==1.6.2->graphlab-create>=2.1->GraphLab-Create-License==2.1) (1.11.0)\nCollecting colorama==0.2.5 (from awscli==1.6.2->graphlab-create>=2.1->GraphLab-Create-License==2.1)\n  Downloading https://files.pythonhosted.org/packages/fc/87/17f7dfcc3632b01972aa64cf97db20498f96ae206c8caa066ca47f304d44/colorama-0.2.5.tar.gz\nRequirement already satisfied, skipping upgrade: docutils>=0.10 in /home/nbuser/anaconda2_501/lib/python2.7/site-packages (from awscli==1.6.2->graphlab-create>=2.1->GraphLab-Create-License==2.1) (0.14)\nCollecting rsa==3.1.2 (from awscli==1.6.2->graphlab-create>=2.1->GraphLab-Create-License==2.1)\n  Downloading https://files.pythonhosted.org/packages/7c/f4/9e4173adb790e5e27cd4c86ce8be38570bbd735271acf35800c9d06ecd6f/rsa-3.1.2.tar.gz\nRequirement already satisfied, skipping upgrade: functools32; python_version == \"2.7\" in /home/nbuser/anaconda2_501/lib/python2.7/site-packages (from jsonschema==2.5.1->graphlab-create>=2.1->GraphLab-Create-License==2.1) (3.2.3.post2)\nCollecting jmespath==0.5.0 (from botocore<0.74.0,>=0.73.0->awscli==1.6.2->graphlab-create>=2.1->GraphLab-Create-License==2.1)\n  Downloading https://files.pythonhosted.org/packages/ee/7c/f8e35867dd7309ecc10be8411c6a37ecb04a2db2007cc07223be2708e6db/jmespath-0.5.0.tar.gz\nRequirement already satisfied, skipping upgrade: pyasn1>=0.1.3 in /home/nbuser/anaconda2_501/lib/python2.7/site-packages (from rsa==3.1.2->awscli==1.6.2->graphlab-create>=2.1->GraphLab-Create-License==2.1) (0.4.4)\n\u001b[31mpygithub 1.43.4 has requirement requests>=2.14.0, but you'll have requests 2.9.1 which is incompatible.\u001b[0m\n\u001b[31mdistributed 1.23.1 has requirement tornado>=4.5.1, but you'll have tornado 4.3 which is incompatible.\u001b[0m\n\u001b[31ms3transfer 0.1.13 has requirement botocore<2.0.0,>=1.3.0, but you'll have botocore 0.73.0 which is incompatible.\u001b[0m\n\u001b[31mazure-kusto-data 0.0.11 has requirement requests>=2.13.0, but you'll have requests 2.9.1 which is incompatible.\u001b[0m\n\u001b[31mboto3 1.4.8 has requirement botocore<1.9.0,>=1.8.0, but you'll have botocore 0.73.0 which is incompatible.\u001b[0m\n\u001b[31mboto3 1.4.8 has requirement jmespath<1.0.0,>=0.7.1, but you'll have jmespath 0.5.0 which is incompatible.\u001b[0m\n\u001b[31mnetworkx 2.1 has requirement decorator>=4.1.0, but you'll have decorator 4.0.9 which is incompatible.\u001b[0m\n\u001b[31mjupyterlab-launcher 0.11.2 has requirement jsonschema>=2.6.0, but you'll have jsonschema 2.5.1 which is incompatible.\u001b[0m\nInstalling collected packages: boto, decorator, genson, jsonschema, requests, psclient, certifi, tornado, prettytable, jmespath, botocore, bcdoc, colorama, rsa, awscli, sseclient, graphlab-create, GraphLab-Create-License\n  Found existing installation: boto 2.49.0\n",
          "name": "stdout"
        },
        {
          "output_type": "stream",
          "text": "\u001b[31mCannot uninstall 'boto'. It is a distutils installed project and thus we cannot accurately determine which files belong to it which would lead to only a partial uninstall.\u001b[0m\r\n",
          "name": "stdout"
        }
      ]
    },
    {
      "metadata": {},
      "cell_type": "markdown",
      "source": "## 설치여부 확인 및 라이센스 확인하기 "
    },
    {
      "metadata": {
        "trusted": true
      },
      "cell_type": "code",
      "source": "import graphlab\n#graphlab.product_key.set_product_key('0CAF-069F-4157-469B-F120-B045-BE5A-A75C')\ngraphlab.set_runtime_config('GRAPHLAB_DEFAULT_NUM_PYLAMBDA_WORKERS', 4)\ngraphlab.product_key.get_product_key()\n",
      "execution_count": 3,
      "outputs": [
        {
          "output_type": "error",
          "ename": "ImportError",
          "evalue": "No module named graphlab",
          "traceback": [
            "\u001b[0;31m\u001b[0m",
            "\u001b[0;31mImportError\u001b[0mTraceback (most recent call last)",
            "\u001b[0;32m<ipython-input-3-4631705f9a79>\u001b[0m in \u001b[0;36m<module>\u001b[0;34m()\u001b[0m\n\u001b[0;32m----> 1\u001b[0;31m \u001b[0;32mimport\u001b[0m \u001b[0mgraphlab\u001b[0m\u001b[0;34m\u001b[0m\u001b[0m\n\u001b[0m\u001b[1;32m      2\u001b[0m \u001b[0;31m#graphlab.product_key.set_product_key('0CAF-069F-4157-469B-F120-B045-BE5A-A75C')\u001b[0m\u001b[0;34m\u001b[0m\u001b[0;34m\u001b[0m\u001b[0m\n\u001b[1;32m      3\u001b[0m \u001b[0mgraphlab\u001b[0m\u001b[0;34m.\u001b[0m\u001b[0mset_runtime_config\u001b[0m\u001b[0;34m(\u001b[0m\u001b[0;34m'GRAPHLAB_DEFAULT_NUM_PYLAMBDA_WORKERS'\u001b[0m\u001b[0;34m,\u001b[0m \u001b[0;36m4\u001b[0m\u001b[0;34m)\u001b[0m\u001b[0;34m\u001b[0m\u001b[0m\n\u001b[1;32m      4\u001b[0m \u001b[0mgraphlab\u001b[0m\u001b[0;34m.\u001b[0m\u001b[0mproduct_key\u001b[0m\u001b[0;34m.\u001b[0m\u001b[0mget_product_key\u001b[0m\u001b[0;34m(\u001b[0m\u001b[0;34m)\u001b[0m\u001b[0;34m\u001b[0m\u001b[0m\n",
            "\u001b[0;31mImportError\u001b[0m: No module named graphlab"
          ]
        }
      ]
    }
  ],
  "metadata": {
    "kernelspec": {
      "name": "python2",
      "display_name": "Python 2",
      "language": "python"
    },
    "language_info": {
      "mimetype": "text/x-python",
      "nbconvert_exporter": "python",
      "name": "python",
      "pygments_lexer": "ipython2",
      "version": "2.7.15",
      "file_extension": ".py",
      "codemirror_mode": {
        "version": 2,
        "name": "ipython"
      }
    }
  },
  "nbformat": 4,
  "nbformat_minor": 2
}
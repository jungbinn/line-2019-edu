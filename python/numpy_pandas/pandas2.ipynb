{
 "cells": [
  {
   "cell_type": "markdown",
   "metadata": {},
   "source": [
    "# pandas part 2 "
   ]
  },
  {
   "cell_type": "markdown",
   "metadata": {
    "collapsed": true
   },
   "source": [
    "## DataFrame 불러오기"
   ]
  },
  {
   "cell_type": "code",
   "execution_count": 1,
   "metadata": {},
   "outputs": [],
   "source": [
    "import pandas as pd"
   ]
  },
  {
   "cell_type": "code",
   "execution_count": 2,
   "metadata": {},
   "outputs": [
    {
     "data": {
      "text/html": [
       "<div>\n",
       "<style scoped>\n",
       "    .dataframe tbody tr th:only-of-type {\n",
       "        vertical-align: middle;\n",
       "    }\n",
       "\n",
       "    .dataframe tbody tr th {\n",
       "        vertical-align: top;\n",
       "    }\n",
       "\n",
       "    .dataframe thead th {\n",
       "        text-align: right;\n",
       "    }\n",
       "</style>\n",
       "<table border=\"1\" class=\"dataframe\">\n",
       "  <thead>\n",
       "    <tr style=\"text-align: right;\">\n",
       "      <th></th>\n",
       "      <th>name</th>\n",
       "      <th>age</th>\n",
       "      <th>money</th>\n",
       "      <th>sex</th>\n",
       "    </tr>\n",
       "  </thead>\n",
       "  <tbody>\n",
       "    <tr>\n",
       "      <th>a</th>\n",
       "      <td>둘리</td>\n",
       "      <td>100</td>\n",
       "      <td>100.0</td>\n",
       "      <td>M</td>\n",
       "    </tr>\n",
       "    <tr>\n",
       "      <th>b</th>\n",
       "      <td>길동</td>\n",
       "      <td>40</td>\n",
       "      <td>500000.0</td>\n",
       "      <td>M</td>\n",
       "    </tr>\n",
       "    <tr>\n",
       "      <th>c</th>\n",
       "      <td>또치</td>\n",
       "      <td>15</td>\n",
       "      <td>50.0</td>\n",
       "      <td>F</td>\n",
       "    </tr>\n",
       "    <tr>\n",
       "      <th>d</th>\n",
       "      <td>희동</td>\n",
       "      <td>3</td>\n",
       "      <td>NaN</td>\n",
       "      <td>M</td>\n",
       "    </tr>\n",
       "  </tbody>\n",
       "</table>\n",
       "</div>"
      ],
      "text/plain": [
       "  name  age     money sex\n",
       "a   둘리  100     100.0   M\n",
       "b   길동   40  500000.0   M\n",
       "c   또치   15      50.0   F\n",
       "d   희동    3       NaN   M"
      ]
     },
     "execution_count": 2,
     "metadata": {},
     "output_type": "execute_result"
    }
   ],
   "source": [
    "df = pd.read_csv('./data/data-header.csv')\n",
    "df.index = ['a','b','c','d']\n",
    "df"
   ]
  },
  {
   "cell_type": "markdown",
   "metadata": {},
   "source": [
    "## 행 삭제 "
   ]
  },
  {
   "cell_type": "code",
   "execution_count": 3,
   "metadata": {},
   "outputs": [
    {
     "data": {
      "text/html": [
       "<div>\n",
       "<style scoped>\n",
       "    .dataframe tbody tr th:only-of-type {\n",
       "        vertical-align: middle;\n",
       "    }\n",
       "\n",
       "    .dataframe tbody tr th {\n",
       "        vertical-align: top;\n",
       "    }\n",
       "\n",
       "    .dataframe thead th {\n",
       "        text-align: right;\n",
       "    }\n",
       "</style>\n",
       "<table border=\"1\" class=\"dataframe\">\n",
       "  <thead>\n",
       "    <tr style=\"text-align: right;\">\n",
       "      <th></th>\n",
       "      <th>name</th>\n",
       "      <th>age</th>\n",
       "      <th>money</th>\n",
       "      <th>sex</th>\n",
       "    </tr>\n",
       "  </thead>\n",
       "  <tbody>\n",
       "    <tr>\n",
       "      <th>b</th>\n",
       "      <td>길동</td>\n",
       "      <td>40</td>\n",
       "      <td>500000.0</td>\n",
       "      <td>M</td>\n",
       "    </tr>\n",
       "    <tr>\n",
       "      <th>c</th>\n",
       "      <td>또치</td>\n",
       "      <td>15</td>\n",
       "      <td>50.0</td>\n",
       "      <td>F</td>\n",
       "    </tr>\n",
       "    <tr>\n",
       "      <th>d</th>\n",
       "      <td>희동</td>\n",
       "      <td>3</td>\n",
       "      <td>NaN</td>\n",
       "      <td>M</td>\n",
       "    </tr>\n",
       "  </tbody>\n",
       "</table>\n",
       "</div>"
      ],
      "text/plain": [
       "  name  age     money sex\n",
       "b   길동   40  500000.0   M\n",
       "c   또치   15      50.0   F\n",
       "d   희동    3       NaN   M"
      ]
     },
     "execution_count": 3,
     "metadata": {},
     "output_type": "execute_result"
    }
   ],
   "source": [
    "df.drop(['a'])"
   ]
  },
  {
   "cell_type": "code",
   "execution_count": 4,
   "metadata": {},
   "outputs": [
    {
     "data": {
      "text/html": [
       "<div>\n",
       "<style scoped>\n",
       "    .dataframe tbody tr th:only-of-type {\n",
       "        vertical-align: middle;\n",
       "    }\n",
       "\n",
       "    .dataframe tbody tr th {\n",
       "        vertical-align: top;\n",
       "    }\n",
       "\n",
       "    .dataframe thead th {\n",
       "        text-align: right;\n",
       "    }\n",
       "</style>\n",
       "<table border=\"1\" class=\"dataframe\">\n",
       "  <thead>\n",
       "    <tr style=\"text-align: right;\">\n",
       "      <th></th>\n",
       "      <th>name</th>\n",
       "      <th>age</th>\n",
       "      <th>money</th>\n",
       "      <th>sex</th>\n",
       "    </tr>\n",
       "  </thead>\n",
       "  <tbody>\n",
       "    <tr>\n",
       "      <th>a</th>\n",
       "      <td>둘리</td>\n",
       "      <td>100</td>\n",
       "      <td>100.0</td>\n",
       "      <td>M</td>\n",
       "    </tr>\n",
       "    <tr>\n",
       "      <th>b</th>\n",
       "      <td>길동</td>\n",
       "      <td>40</td>\n",
       "      <td>500000.0</td>\n",
       "      <td>M</td>\n",
       "    </tr>\n",
       "    <tr>\n",
       "      <th>c</th>\n",
       "      <td>또치</td>\n",
       "      <td>15</td>\n",
       "      <td>50.0</td>\n",
       "      <td>F</td>\n",
       "    </tr>\n",
       "    <tr>\n",
       "      <th>d</th>\n",
       "      <td>희동</td>\n",
       "      <td>3</td>\n",
       "      <td>NaN</td>\n",
       "      <td>M</td>\n",
       "    </tr>\n",
       "  </tbody>\n",
       "</table>\n",
       "</div>"
      ],
      "text/plain": [
       "  name  age     money sex\n",
       "a   둘리  100     100.0   M\n",
       "b   길동   40  500000.0   M\n",
       "c   또치   15      50.0   F\n",
       "d   희동    3       NaN   M"
      ]
     },
     "execution_count": 4,
     "metadata": {},
     "output_type": "execute_result"
    }
   ],
   "source": [
    "df"
   ]
  },
  {
   "cell_type": "markdown",
   "metadata": {},
   "source": [
    "## `df.index`를 이용한 삭제 "
   ]
  },
  {
   "cell_type": "code",
   "execution_count": 5,
   "metadata": {},
   "outputs": [
    {
     "data": {
      "text/plain": [
       "array(['name', 'age', 'money', 'sex'], dtype=object)"
      ]
     },
     "execution_count": 5,
     "metadata": {},
     "output_type": "execute_result"
    }
   ],
   "source": [
    "df.columns.values"
   ]
  },
  {
   "cell_type": "code",
   "execution_count": 6,
   "metadata": {},
   "outputs": [
    {
     "data": {
      "text/plain": [
       "array(['a', 'b', 'c', 'd'], dtype=object)"
      ]
     },
     "execution_count": 6,
     "metadata": {},
     "output_type": "execute_result"
    }
   ],
   "source": [
    "df.index.values"
   ]
  },
  {
   "cell_type": "code",
   "execution_count": 7,
   "metadata": {},
   "outputs": [
    {
     "data": {
      "text/plain": [
       "'a'"
      ]
     },
     "execution_count": 7,
     "metadata": {},
     "output_type": "execute_result"
    }
   ],
   "source": [
    "df.index[0]"
   ]
  },
  {
   "cell_type": "code",
   "execution_count": 8,
   "metadata": {},
   "outputs": [
    {
     "data": {
      "text/html": [
       "<div>\n",
       "<style scoped>\n",
       "    .dataframe tbody tr th:only-of-type {\n",
       "        vertical-align: middle;\n",
       "    }\n",
       "\n",
       "    .dataframe tbody tr th {\n",
       "        vertical-align: top;\n",
       "    }\n",
       "\n",
       "    .dataframe thead th {\n",
       "        text-align: right;\n",
       "    }\n",
       "</style>\n",
       "<table border=\"1\" class=\"dataframe\">\n",
       "  <thead>\n",
       "    <tr style=\"text-align: right;\">\n",
       "      <th></th>\n",
       "      <th>name</th>\n",
       "      <th>age</th>\n",
       "      <th>money</th>\n",
       "      <th>sex</th>\n",
       "    </tr>\n",
       "  </thead>\n",
       "  <tbody>\n",
       "    <tr>\n",
       "      <th>b</th>\n",
       "      <td>길동</td>\n",
       "      <td>40</td>\n",
       "      <td>500000.0</td>\n",
       "      <td>M</td>\n",
       "    </tr>\n",
       "    <tr>\n",
       "      <th>c</th>\n",
       "      <td>또치</td>\n",
       "      <td>15</td>\n",
       "      <td>50.0</td>\n",
       "      <td>F</td>\n",
       "    </tr>\n",
       "    <tr>\n",
       "      <th>d</th>\n",
       "      <td>희동</td>\n",
       "      <td>3</td>\n",
       "      <td>NaN</td>\n",
       "      <td>M</td>\n",
       "    </tr>\n",
       "  </tbody>\n",
       "</table>\n",
       "</div>"
      ],
      "text/plain": [
       "  name  age     money sex\n",
       "b   길동   40  500000.0   M\n",
       "c   또치   15      50.0   F\n",
       "d   희동    3       NaN   M"
      ]
     },
     "execution_count": 8,
     "metadata": {},
     "output_type": "execute_result"
    }
   ],
   "source": [
    "df.drop([df.index[0]])"
   ]
  },
  {
   "cell_type": "code",
   "execution_count": 9,
   "metadata": {},
   "outputs": [
    {
     "data": {
      "text/plain": [
       "'money'"
      ]
     },
     "execution_count": 9,
     "metadata": {},
     "output_type": "execute_result"
    }
   ],
   "source": [
    "df.columns[2]"
   ]
  },
  {
   "cell_type": "code",
   "execution_count": 10,
   "metadata": {},
   "outputs": [
    {
     "data": {
      "text/plain": [
       "Index(['age', 'money'], dtype='object')"
      ]
     },
     "execution_count": 10,
     "metadata": {},
     "output_type": "execute_result"
    }
   ],
   "source": [
    "df.columns[1:3]"
   ]
  },
  {
   "cell_type": "code",
   "execution_count": 11,
   "metadata": {},
   "outputs": [
    {
     "data": {
      "text/html": [
       "<div>\n",
       "<style scoped>\n",
       "    .dataframe tbody tr th:only-of-type {\n",
       "        vertical-align: middle;\n",
       "    }\n",
       "\n",
       "    .dataframe tbody tr th {\n",
       "        vertical-align: top;\n",
       "    }\n",
       "\n",
       "    .dataframe thead th {\n",
       "        text-align: right;\n",
       "    }\n",
       "</style>\n",
       "<table border=\"1\" class=\"dataframe\">\n",
       "  <thead>\n",
       "    <tr style=\"text-align: right;\">\n",
       "      <th></th>\n",
       "      <th>age</th>\n",
       "      <th>money</th>\n",
       "    </tr>\n",
       "  </thead>\n",
       "  <tbody>\n",
       "    <tr>\n",
       "      <th>a</th>\n",
       "      <td>100</td>\n",
       "      <td>100.0</td>\n",
       "    </tr>\n",
       "    <tr>\n",
       "      <th>b</th>\n",
       "      <td>40</td>\n",
       "      <td>500000.0</td>\n",
       "    </tr>\n",
       "    <tr>\n",
       "      <th>c</th>\n",
       "      <td>15</td>\n",
       "      <td>50.0</td>\n",
       "    </tr>\n",
       "    <tr>\n",
       "      <th>d</th>\n",
       "      <td>3</td>\n",
       "      <td>NaN</td>\n",
       "    </tr>\n",
       "  </tbody>\n",
       "</table>\n",
       "</div>"
      ],
      "text/plain": [
       "   age     money\n",
       "a  100     100.0\n",
       "b   40  500000.0\n",
       "c   15      50.0\n",
       "d    3       NaN"
      ]
     },
     "execution_count": 11,
     "metadata": {},
     "output_type": "execute_result"
    }
   ],
   "source": [
    "df[df.columns[1:3]]"
   ]
  },
  {
   "cell_type": "code",
   "execution_count": 12,
   "metadata": {},
   "outputs": [
    {
     "data": {
      "text/html": [
       "<div>\n",
       "<style scoped>\n",
       "    .dataframe tbody tr th:only-of-type {\n",
       "        vertical-align: middle;\n",
       "    }\n",
       "\n",
       "    .dataframe tbody tr th {\n",
       "        vertical-align: top;\n",
       "    }\n",
       "\n",
       "    .dataframe thead th {\n",
       "        text-align: right;\n",
       "    }\n",
       "</style>\n",
       "<table border=\"1\" class=\"dataframe\">\n",
       "  <thead>\n",
       "    <tr style=\"text-align: right;\">\n",
       "      <th></th>\n",
       "      <th>name</th>\n",
       "      <th>age</th>\n",
       "      <th>sex</th>\n",
       "    </tr>\n",
       "  </thead>\n",
       "  <tbody>\n",
       "    <tr>\n",
       "      <th>a</th>\n",
       "      <td>둘리</td>\n",
       "      <td>100</td>\n",
       "      <td>M</td>\n",
       "    </tr>\n",
       "    <tr>\n",
       "      <th>b</th>\n",
       "      <td>길동</td>\n",
       "      <td>40</td>\n",
       "      <td>M</td>\n",
       "    </tr>\n",
       "    <tr>\n",
       "      <th>c</th>\n",
       "      <td>또치</td>\n",
       "      <td>15</td>\n",
       "      <td>F</td>\n",
       "    </tr>\n",
       "    <tr>\n",
       "      <th>d</th>\n",
       "      <td>희동</td>\n",
       "      <td>3</td>\n",
       "      <td>M</td>\n",
       "    </tr>\n",
       "  </tbody>\n",
       "</table>\n",
       "</div>"
      ],
      "text/plain": [
       "  name  age sex\n",
       "a   둘리  100   M\n",
       "b   길동   40   M\n",
       "c   또치   15   F\n",
       "d   희동    3   M"
      ]
     },
     "execution_count": 12,
     "metadata": {},
     "output_type": "execute_result"
    }
   ],
   "source": [
    "df[['name','age','sex']]"
   ]
  },
  {
   "cell_type": "code",
   "execution_count": 13,
   "metadata": {},
   "outputs": [],
   "source": [
    "# df.drop(['money']) error"
   ]
  },
  {
   "cell_type": "code",
   "execution_count": 14,
   "metadata": {},
   "outputs": [
    {
     "data": {
      "text/html": [
       "<div>\n",
       "<style scoped>\n",
       "    .dataframe tbody tr th:only-of-type {\n",
       "        vertical-align: middle;\n",
       "    }\n",
       "\n",
       "    .dataframe tbody tr th {\n",
       "        vertical-align: top;\n",
       "    }\n",
       "\n",
       "    .dataframe thead th {\n",
       "        text-align: right;\n",
       "    }\n",
       "</style>\n",
       "<table border=\"1\" class=\"dataframe\">\n",
       "  <thead>\n",
       "    <tr style=\"text-align: right;\">\n",
       "      <th></th>\n",
       "      <th>name</th>\n",
       "      <th>age</th>\n",
       "      <th>sex</th>\n",
       "    </tr>\n",
       "  </thead>\n",
       "  <tbody>\n",
       "    <tr>\n",
       "      <th>a</th>\n",
       "      <td>둘리</td>\n",
       "      <td>100</td>\n",
       "      <td>M</td>\n",
       "    </tr>\n",
       "    <tr>\n",
       "      <th>b</th>\n",
       "      <td>길동</td>\n",
       "      <td>40</td>\n",
       "      <td>M</td>\n",
       "    </tr>\n",
       "    <tr>\n",
       "      <th>c</th>\n",
       "      <td>또치</td>\n",
       "      <td>15</td>\n",
       "      <td>F</td>\n",
       "    </tr>\n",
       "    <tr>\n",
       "      <th>d</th>\n",
       "      <td>희동</td>\n",
       "      <td>3</td>\n",
       "      <td>M</td>\n",
       "    </tr>\n",
       "  </tbody>\n",
       "</table>\n",
       "</div>"
      ],
      "text/plain": [
       "  name  age sex\n",
       "a   둘리  100   M\n",
       "b   길동   40   M\n",
       "c   또치   15   F\n",
       "d   희동    3   M"
      ]
     },
     "execution_count": 14,
     "metadata": {},
     "output_type": "execute_result"
    }
   ],
   "source": [
    "df.drop(['money'], axis=1)"
   ]
  },
  {
   "cell_type": "code",
   "execution_count": 15,
   "metadata": {},
   "outputs": [
    {
     "data": {
      "text/html": [
       "<div>\n",
       "<style scoped>\n",
       "    .dataframe tbody tr th:only-of-type {\n",
       "        vertical-align: middle;\n",
       "    }\n",
       "\n",
       "    .dataframe tbody tr th {\n",
       "        vertical-align: top;\n",
       "    }\n",
       "\n",
       "    .dataframe thead th {\n",
       "        text-align: right;\n",
       "    }\n",
       "</style>\n",
       "<table border=\"1\" class=\"dataframe\">\n",
       "  <thead>\n",
       "    <tr style=\"text-align: right;\">\n",
       "      <th></th>\n",
       "      <th>name</th>\n",
       "      <th>age</th>\n",
       "      <th>sex</th>\n",
       "    </tr>\n",
       "  </thead>\n",
       "  <tbody>\n",
       "    <tr>\n",
       "      <th>a</th>\n",
       "      <td>둘리</td>\n",
       "      <td>100</td>\n",
       "      <td>M</td>\n",
       "    </tr>\n",
       "    <tr>\n",
       "      <th>b</th>\n",
       "      <td>길동</td>\n",
       "      <td>40</td>\n",
       "      <td>M</td>\n",
       "    </tr>\n",
       "    <tr>\n",
       "      <th>c</th>\n",
       "      <td>또치</td>\n",
       "      <td>15</td>\n",
       "      <td>F</td>\n",
       "    </tr>\n",
       "    <tr>\n",
       "      <th>d</th>\n",
       "      <td>희동</td>\n",
       "      <td>3</td>\n",
       "      <td>M</td>\n",
       "    </tr>\n",
       "  </tbody>\n",
       "</table>\n",
       "</div>"
      ],
      "text/plain": [
       "  name  age sex\n",
       "a   둘리  100   M\n",
       "b   길동   40   M\n",
       "c   또치   15   F\n",
       "d   희동    3   M"
      ]
     },
     "execution_count": 15,
     "metadata": {},
     "output_type": "execute_result"
    }
   ],
   "source": [
    "df.drop([df.columns[2]], axis=1)"
   ]
  },
  {
   "cell_type": "markdown",
   "metadata": {},
   "source": [
    "## 컬럼이 많을 경우 특정 컬럼을 제거하고 싶다면 "
   ]
  },
  {
   "cell_type": "code",
   "execution_count": 16,
   "metadata": {},
   "outputs": [],
   "source": [
    "features = set(df.columns.values) - set(['age', 'money'])"
   ]
  },
  {
   "cell_type": "code",
   "execution_count": 17,
   "metadata": {},
   "outputs": [
    {
     "data": {
      "text/plain": [
       "{'name', 'sex'}"
      ]
     },
     "execution_count": 17,
     "metadata": {},
     "output_type": "execute_result"
    }
   ],
   "source": [
    "# features is a set\n",
    "features"
   ]
  },
  {
   "cell_type": "code",
   "execution_count": 18,
   "metadata": {},
   "outputs": [],
   "source": [
    "features = list(features)"
   ]
  },
  {
   "cell_type": "code",
   "execution_count": 19,
   "metadata": {},
   "outputs": [
    {
     "data": {
      "text/html": [
       "<div>\n",
       "<style scoped>\n",
       "    .dataframe tbody tr th:only-of-type {\n",
       "        vertical-align: middle;\n",
       "    }\n",
       "\n",
       "    .dataframe tbody tr th {\n",
       "        vertical-align: top;\n",
       "    }\n",
       "\n",
       "    .dataframe thead th {\n",
       "        text-align: right;\n",
       "    }\n",
       "</style>\n",
       "<table border=\"1\" class=\"dataframe\">\n",
       "  <thead>\n",
       "    <tr style=\"text-align: right;\">\n",
       "      <th></th>\n",
       "      <th>sex</th>\n",
       "      <th>name</th>\n",
       "    </tr>\n",
       "  </thead>\n",
       "  <tbody>\n",
       "    <tr>\n",
       "      <th>a</th>\n",
       "      <td>M</td>\n",
       "      <td>둘리</td>\n",
       "    </tr>\n",
       "    <tr>\n",
       "      <th>b</th>\n",
       "      <td>M</td>\n",
       "      <td>길동</td>\n",
       "    </tr>\n",
       "    <tr>\n",
       "      <th>c</th>\n",
       "      <td>F</td>\n",
       "      <td>또치</td>\n",
       "    </tr>\n",
       "    <tr>\n",
       "      <th>d</th>\n",
       "      <td>M</td>\n",
       "      <td>희동</td>\n",
       "    </tr>\n",
       "  </tbody>\n",
       "</table>\n",
       "</div>"
      ],
      "text/plain": [
       "  sex name\n",
       "a   M   둘리\n",
       "b   M   길동\n",
       "c   F   또치\n",
       "d   M   희동"
      ]
     },
     "execution_count": 19,
     "metadata": {},
     "output_type": "execute_result"
    }
   ],
   "source": [
    "df[features]"
   ]
  },
  {
   "cell_type": "markdown",
   "metadata": {},
   "source": [
    "## 조건에 의한 삭제 \n",
    "- 필터링과 같다 "
   ]
  },
  {
   "cell_type": "code",
   "execution_count": 20,
   "metadata": {},
   "outputs": [
    {
     "data": {
      "text/html": [
       "<div>\n",
       "<style scoped>\n",
       "    .dataframe tbody tr th:only-of-type {\n",
       "        vertical-align: middle;\n",
       "    }\n",
       "\n",
       "    .dataframe tbody tr th {\n",
       "        vertical-align: top;\n",
       "    }\n",
       "\n",
       "    .dataframe thead th {\n",
       "        text-align: right;\n",
       "    }\n",
       "</style>\n",
       "<table border=\"1\" class=\"dataframe\">\n",
       "  <thead>\n",
       "    <tr style=\"text-align: right;\">\n",
       "      <th></th>\n",
       "      <th>name</th>\n",
       "      <th>age</th>\n",
       "      <th>money</th>\n",
       "      <th>sex</th>\n",
       "    </tr>\n",
       "  </thead>\n",
       "  <tbody>\n",
       "    <tr>\n",
       "      <th>a</th>\n",
       "      <td>둘리</td>\n",
       "      <td>100</td>\n",
       "      <td>100.0</td>\n",
       "      <td>M</td>\n",
       "    </tr>\n",
       "    <tr>\n",
       "      <th>b</th>\n",
       "      <td>길동</td>\n",
       "      <td>40</td>\n",
       "      <td>500000.0</td>\n",
       "      <td>M</td>\n",
       "    </tr>\n",
       "    <tr>\n",
       "      <th>c</th>\n",
       "      <td>또치</td>\n",
       "      <td>15</td>\n",
       "      <td>50.0</td>\n",
       "      <td>F</td>\n",
       "    </tr>\n",
       "    <tr>\n",
       "      <th>d</th>\n",
       "      <td>희동</td>\n",
       "      <td>3</td>\n",
       "      <td>NaN</td>\n",
       "      <td>M</td>\n",
       "    </tr>\n",
       "  </tbody>\n",
       "</table>\n",
       "</div>"
      ],
      "text/plain": [
       "  name  age     money sex\n",
       "a   둘리  100     100.0   M\n",
       "b   길동   40  500000.0   M\n",
       "c   또치   15      50.0   F\n",
       "d   희동    3       NaN   M"
      ]
     },
     "execution_count": 20,
     "metadata": {},
     "output_type": "execute_result"
    }
   ],
   "source": [
    "df"
   ]
  },
  {
   "cell_type": "code",
   "execution_count": 21,
   "metadata": {},
   "outputs": [
    {
     "data": {
      "text/plain": [
       "a    False\n",
       "b     True\n",
       "c    False\n",
       "d    False\n",
       "Name: money, dtype: bool"
      ]
     },
     "execution_count": 21,
     "metadata": {},
     "output_type": "execute_result"
    }
   ],
   "source": [
    "df['money'] > 1500"
   ]
  },
  {
   "cell_type": "code",
   "execution_count": 22,
   "metadata": {},
   "outputs": [
    {
     "data": {
      "text/html": [
       "<div>\n",
       "<style scoped>\n",
       "    .dataframe tbody tr th:only-of-type {\n",
       "        vertical-align: middle;\n",
       "    }\n",
       "\n",
       "    .dataframe tbody tr th {\n",
       "        vertical-align: top;\n",
       "    }\n",
       "\n",
       "    .dataframe thead th {\n",
       "        text-align: right;\n",
       "    }\n",
       "</style>\n",
       "<table border=\"1\" class=\"dataframe\">\n",
       "  <thead>\n",
       "    <tr style=\"text-align: right;\">\n",
       "      <th></th>\n",
       "      <th>name</th>\n",
       "      <th>age</th>\n",
       "      <th>money</th>\n",
       "      <th>sex</th>\n",
       "    </tr>\n",
       "  </thead>\n",
       "  <tbody>\n",
       "    <tr>\n",
       "      <th>b</th>\n",
       "      <td>길동</td>\n",
       "      <td>40</td>\n",
       "      <td>500000.0</td>\n",
       "      <td>M</td>\n",
       "    </tr>\n",
       "  </tbody>\n",
       "</table>\n",
       "</div>"
      ],
      "text/plain": [
       "  name  age     money sex\n",
       "b   길동   40  500000.0   M"
      ]
     },
     "execution_count": 22,
     "metadata": {},
     "output_type": "execute_result"
    }
   ],
   "source": [
    "df[df['money'] > 1500]"
   ]
  },
  {
   "cell_type": "markdown",
   "metadata": {},
   "source": [
    "## 새로운 컬럼 생성 "
   ]
  },
  {
   "cell_type": "code",
   "execution_count": 23,
   "metadata": {},
   "outputs": [
    {
     "data": {
      "text/html": [
       "<div>\n",
       "<style scoped>\n",
       "    .dataframe tbody tr th:only-of-type {\n",
       "        vertical-align: middle;\n",
       "    }\n",
       "\n",
       "    .dataframe tbody tr th {\n",
       "        vertical-align: top;\n",
       "    }\n",
       "\n",
       "    .dataframe thead th {\n",
       "        text-align: right;\n",
       "    }\n",
       "</style>\n",
       "<table border=\"1\" class=\"dataframe\">\n",
       "  <thead>\n",
       "    <tr style=\"text-align: right;\">\n",
       "      <th></th>\n",
       "      <th>name</th>\n",
       "      <th>age</th>\n",
       "      <th>money</th>\n",
       "      <th>sex</th>\n",
       "      <th>salary</th>\n",
       "    </tr>\n",
       "  </thead>\n",
       "  <tbody>\n",
       "    <tr>\n",
       "      <th>a</th>\n",
       "      <td>둘리</td>\n",
       "      <td>100</td>\n",
       "      <td>100.0</td>\n",
       "      <td>M</td>\n",
       "      <td>100</td>\n",
       "    </tr>\n",
       "    <tr>\n",
       "      <th>b</th>\n",
       "      <td>길동</td>\n",
       "      <td>40</td>\n",
       "      <td>500000.0</td>\n",
       "      <td>M</td>\n",
       "      <td>100</td>\n",
       "    </tr>\n",
       "    <tr>\n",
       "      <th>c</th>\n",
       "      <td>또치</td>\n",
       "      <td>15</td>\n",
       "      <td>50.0</td>\n",
       "      <td>F</td>\n",
       "      <td>100</td>\n",
       "    </tr>\n",
       "    <tr>\n",
       "      <th>d</th>\n",
       "      <td>희동</td>\n",
       "      <td>3</td>\n",
       "      <td>NaN</td>\n",
       "      <td>M</td>\n",
       "      <td>100</td>\n",
       "    </tr>\n",
       "  </tbody>\n",
       "</table>\n",
       "</div>"
      ],
      "text/plain": [
       "  name  age     money sex  salary\n",
       "a   둘리  100     100.0   M     100\n",
       "b   길동   40  500000.0   M     100\n",
       "c   또치   15      50.0   F     100\n",
       "d   희동    3       NaN   M     100"
      ]
     },
     "execution_count": 23,
     "metadata": {},
     "output_type": "execute_result"
    }
   ],
   "source": [
    "df['salary'] = 100\n",
    "df"
   ]
  },
  {
   "cell_type": "markdown",
   "metadata": {},
   "source": [
    "## 조건부 업데이트 "
   ]
  },
  {
   "cell_type": "code",
   "execution_count": 24,
   "metadata": {},
   "outputs": [
    {
     "data": {
      "text/html": [
       "<div>\n",
       "<style scoped>\n",
       "    .dataframe tbody tr th:only-of-type {\n",
       "        vertical-align: middle;\n",
       "    }\n",
       "\n",
       "    .dataframe tbody tr th {\n",
       "        vertical-align: top;\n",
       "    }\n",
       "\n",
       "    .dataframe thead th {\n",
       "        text-align: right;\n",
       "    }\n",
       "</style>\n",
       "<table border=\"1\" class=\"dataframe\">\n",
       "  <thead>\n",
       "    <tr style=\"text-align: right;\">\n",
       "      <th></th>\n",
       "      <th>name</th>\n",
       "      <th>age</th>\n",
       "      <th>money</th>\n",
       "      <th>sex</th>\n",
       "      <th>salary</th>\n",
       "    </tr>\n",
       "  </thead>\n",
       "  <tbody>\n",
       "    <tr>\n",
       "      <th>a</th>\n",
       "      <td>둘리</td>\n",
       "      <td>100</td>\n",
       "      <td>100.0</td>\n",
       "      <td>M</td>\n",
       "      <td>100</td>\n",
       "    </tr>\n",
       "    <tr>\n",
       "      <th>b</th>\n",
       "      <td>길동</td>\n",
       "      <td>40</td>\n",
       "      <td>500000.0</td>\n",
       "      <td>M</td>\n",
       "      <td>100</td>\n",
       "    </tr>\n",
       "    <tr>\n",
       "      <th>c</th>\n",
       "      <td>또치</td>\n",
       "      <td>15</td>\n",
       "      <td>50.0</td>\n",
       "      <td>F</td>\n",
       "      <td>100</td>\n",
       "    </tr>\n",
       "    <tr>\n",
       "      <th>d</th>\n",
       "      <td>희동</td>\n",
       "      <td>3</td>\n",
       "      <td>NaN</td>\n",
       "      <td>M</td>\n",
       "      <td>100</td>\n",
       "    </tr>\n",
       "  </tbody>\n",
       "</table>\n",
       "</div>"
      ],
      "text/plain": [
       "  name  age     money sex  salary\n",
       "a   둘리  100     100.0   M     100\n",
       "b   길동   40  500000.0   M     100\n",
       "c   또치   15      50.0   F     100\n",
       "d   희동    3       NaN   M     100"
      ]
     },
     "execution_count": 24,
     "metadata": {},
     "output_type": "execute_result"
    }
   ],
   "source": [
    "import numpy as np\n",
    "df"
   ]
  },
  {
   "cell_type": "code",
   "execution_count": 25,
   "metadata": {},
   "outputs": [
    {
     "data": {
      "text/html": [
       "<div>\n",
       "<style scoped>\n",
       "    .dataframe tbody tr th:only-of-type {\n",
       "        vertical-align: middle;\n",
       "    }\n",
       "\n",
       "    .dataframe tbody tr th {\n",
       "        vertical-align: top;\n",
       "    }\n",
       "\n",
       "    .dataframe thead th {\n",
       "        text-align: right;\n",
       "    }\n",
       "</style>\n",
       "<table border=\"1\" class=\"dataframe\">\n",
       "  <thead>\n",
       "    <tr style=\"text-align: right;\">\n",
       "      <th></th>\n",
       "      <th>name</th>\n",
       "      <th>age</th>\n",
       "      <th>money</th>\n",
       "      <th>sex</th>\n",
       "      <th>salary</th>\n",
       "      <th>Young</th>\n",
       "    </tr>\n",
       "  </thead>\n",
       "  <tbody>\n",
       "    <tr>\n",
       "      <th>a</th>\n",
       "      <td>둘리</td>\n",
       "      <td>100</td>\n",
       "      <td>100.0</td>\n",
       "      <td>M</td>\n",
       "      <td>100</td>\n",
       "      <td>노인</td>\n",
       "    </tr>\n",
       "    <tr>\n",
       "      <th>b</th>\n",
       "      <td>길동</td>\n",
       "      <td>40</td>\n",
       "      <td>500000.0</td>\n",
       "      <td>M</td>\n",
       "      <td>100</td>\n",
       "      <td>노인</td>\n",
       "    </tr>\n",
       "    <tr>\n",
       "      <th>c</th>\n",
       "      <td>또치</td>\n",
       "      <td>15</td>\n",
       "      <td>50.0</td>\n",
       "      <td>F</td>\n",
       "      <td>100</td>\n",
       "      <td>젊은이</td>\n",
       "    </tr>\n",
       "    <tr>\n",
       "      <th>d</th>\n",
       "      <td>희동</td>\n",
       "      <td>3</td>\n",
       "      <td>NaN</td>\n",
       "      <td>M</td>\n",
       "      <td>100</td>\n",
       "      <td>젊은이</td>\n",
       "    </tr>\n",
       "  </tbody>\n",
       "</table>\n",
       "</div>"
      ],
      "text/plain": [
       "  name  age     money sex  salary Young\n",
       "a   둘리  100     100.0   M     100    노인\n",
       "b   길동   40  500000.0   M     100    노인\n",
       "c   또치   15      50.0   F     100   젊은이\n",
       "d   희동    3       NaN   M     100   젊은이"
      ]
     },
     "execution_count": 25,
     "metadata": {},
     "output_type": "execute_result"
    }
   ],
   "source": [
    "df['Young'] = np.where(df['age'] < 20, '젊은이', '노인') \n",
    "df"
   ]
  },
  {
   "cell_type": "markdown",
   "metadata": {},
   "source": [
    "## 리스트를 이용한 업데이트 "
   ]
  },
  {
   "cell_type": "code",
   "execution_count": 26,
   "metadata": {},
   "outputs": [
    {
     "data": {
      "text/html": [
       "<div>\n",
       "<style scoped>\n",
       "    .dataframe tbody tr th:only-of-type {\n",
       "        vertical-align: middle;\n",
       "    }\n",
       "\n",
       "    .dataframe tbody tr th {\n",
       "        vertical-align: top;\n",
       "    }\n",
       "\n",
       "    .dataframe thead th {\n",
       "        text-align: right;\n",
       "    }\n",
       "</style>\n",
       "<table border=\"1\" class=\"dataframe\">\n",
       "  <thead>\n",
       "    <tr style=\"text-align: right;\">\n",
       "      <th></th>\n",
       "      <th>name</th>\n",
       "      <th>age</th>\n",
       "      <th>money</th>\n",
       "      <th>sex</th>\n",
       "      <th>salary</th>\n",
       "      <th>Young</th>\n",
       "      <th>fname</th>\n",
       "    </tr>\n",
       "  </thead>\n",
       "  <tbody>\n",
       "    <tr>\n",
       "      <th>a</th>\n",
       "      <td>둘리</td>\n",
       "      <td>100</td>\n",
       "      <td>100.0</td>\n",
       "      <td>M</td>\n",
       "      <td>100</td>\n",
       "      <td>노인</td>\n",
       "      <td>공</td>\n",
       "    </tr>\n",
       "    <tr>\n",
       "      <th>b</th>\n",
       "      <td>길동</td>\n",
       "      <td>40</td>\n",
       "      <td>500000.0</td>\n",
       "      <td>M</td>\n",
       "      <td>100</td>\n",
       "      <td>노인</td>\n",
       "      <td>고</td>\n",
       "    </tr>\n",
       "    <tr>\n",
       "      <th>c</th>\n",
       "      <td>또치</td>\n",
       "      <td>15</td>\n",
       "      <td>50.0</td>\n",
       "      <td>F</td>\n",
       "      <td>100</td>\n",
       "      <td>젊은이</td>\n",
       "      <td>김</td>\n",
       "    </tr>\n",
       "    <tr>\n",
       "      <th>d</th>\n",
       "      <td>희동</td>\n",
       "      <td>3</td>\n",
       "      <td>NaN</td>\n",
       "      <td>M</td>\n",
       "      <td>100</td>\n",
       "      <td>젊은이</td>\n",
       "      <td>김</td>\n",
       "    </tr>\n",
       "  </tbody>\n",
       "</table>\n",
       "</div>"
      ],
      "text/plain": [
       "  name  age     money sex  salary Young fname\n",
       "a   둘리  100     100.0   M     100    노인     공\n",
       "b   길동   40  500000.0   M     100    노인     고\n",
       "c   또치   15      50.0   F     100   젊은이     김\n",
       "d   희동    3       NaN   M     100   젊은이     김"
      ]
     },
     "execution_count": 26,
     "metadata": {},
     "output_type": "execute_result"
    }
   ],
   "source": [
    "df['fname'] = ['공', '고', '김','김']\n",
    "df"
   ]
  },
  {
   "cell_type": "code",
   "execution_count": 27,
   "metadata": {},
   "outputs": [
    {
     "data": {
      "text/html": [
       "<div>\n",
       "<style scoped>\n",
       "    .dataframe tbody tr th:only-of-type {\n",
       "        vertical-align: middle;\n",
       "    }\n",
       "\n",
       "    .dataframe tbody tr th {\n",
       "        vertical-align: top;\n",
       "    }\n",
       "\n",
       "    .dataframe thead th {\n",
       "        text-align: right;\n",
       "    }\n",
       "</style>\n",
       "<table border=\"1\" class=\"dataframe\">\n",
       "  <thead>\n",
       "    <tr style=\"text-align: right;\">\n",
       "      <th></th>\n",
       "      <th>name</th>\n",
       "      <th>age</th>\n",
       "      <th>money</th>\n",
       "      <th>sex</th>\n",
       "      <th>salary</th>\n",
       "      <th>Young</th>\n",
       "      <th>fname</th>\n",
       "      <th>fullname</th>\n",
       "    </tr>\n",
       "  </thead>\n",
       "  <tbody>\n",
       "    <tr>\n",
       "      <th>a</th>\n",
       "      <td>둘리</td>\n",
       "      <td>100</td>\n",
       "      <td>100.0</td>\n",
       "      <td>M</td>\n",
       "      <td>100</td>\n",
       "      <td>노인</td>\n",
       "      <td>공</td>\n",
       "      <td>공 둘리</td>\n",
       "    </tr>\n",
       "    <tr>\n",
       "      <th>b</th>\n",
       "      <td>길동</td>\n",
       "      <td>40</td>\n",
       "      <td>500000.0</td>\n",
       "      <td>M</td>\n",
       "      <td>100</td>\n",
       "      <td>노인</td>\n",
       "      <td>고</td>\n",
       "      <td>고 길동</td>\n",
       "    </tr>\n",
       "    <tr>\n",
       "      <th>c</th>\n",
       "      <td>또치</td>\n",
       "      <td>15</td>\n",
       "      <td>50.0</td>\n",
       "      <td>F</td>\n",
       "      <td>100</td>\n",
       "      <td>젊은이</td>\n",
       "      <td>김</td>\n",
       "      <td>김 또치</td>\n",
       "    </tr>\n",
       "    <tr>\n",
       "      <th>d</th>\n",
       "      <td>희동</td>\n",
       "      <td>3</td>\n",
       "      <td>NaN</td>\n",
       "      <td>M</td>\n",
       "      <td>100</td>\n",
       "      <td>젊은이</td>\n",
       "      <td>김</td>\n",
       "      <td>김 희동</td>\n",
       "    </tr>\n",
       "  </tbody>\n",
       "</table>\n",
       "</div>"
      ],
      "text/plain": [
       "  name  age     money sex  salary Young fname fullname\n",
       "a   둘리  100     100.0   M     100    노인     공     공 둘리\n",
       "b   길동   40  500000.0   M     100    노인     고     고 길동\n",
       "c   또치   15      50.0   F     100   젊은이     김     김 또치\n",
       "d   희동    3       NaN   M     100   젊은이     김     김 희동"
      ]
     },
     "execution_count": 27,
     "metadata": {},
     "output_type": "execute_result"
    }
   ],
   "source": [
    "df['fullname'] = df['fname'] + ' ' + df['name']\n",
    "df"
   ]
  },
  {
   "cell_type": "markdown",
   "metadata": {},
   "source": [
    "## apply 사용법 "
   ]
  },
  {
   "cell_type": "code",
   "execution_count": 28,
   "metadata": {},
   "outputs": [
    {
     "data": {
      "text/plain": [
       "0.07922336981800882"
      ]
     },
     "execution_count": 28,
     "metadata": {},
     "output_type": "execute_result"
    }
   ],
   "source": [
    "import random\n",
    "random.random()"
   ]
  },
  {
   "cell_type": "code",
   "execution_count": 29,
   "metadata": {},
   "outputs": [],
   "source": [
    "import random \n",
    "\n",
    "def bonus(salary):\n",
    "    bonus = 0.4 * random.random()\n",
    "    return int(salary * bonus)"
   ]
  },
  {
   "cell_type": "code",
   "execution_count": 30,
   "metadata": {},
   "outputs": [
    {
     "data": {
      "text/plain": [
       "17"
      ]
     },
     "execution_count": 30,
     "metadata": {},
     "output_type": "execute_result"
    }
   ],
   "source": [
    "bonus(100)"
   ]
  },
  {
   "cell_type": "code",
   "execution_count": 31,
   "metadata": {},
   "outputs": [
    {
     "data": {
      "text/html": [
       "<div>\n",
       "<style scoped>\n",
       "    .dataframe tbody tr th:only-of-type {\n",
       "        vertical-align: middle;\n",
       "    }\n",
       "\n",
       "    .dataframe tbody tr th {\n",
       "        vertical-align: top;\n",
       "    }\n",
       "\n",
       "    .dataframe thead th {\n",
       "        text-align: right;\n",
       "    }\n",
       "</style>\n",
       "<table border=\"1\" class=\"dataframe\">\n",
       "  <thead>\n",
       "    <tr style=\"text-align: right;\">\n",
       "      <th></th>\n",
       "      <th>name</th>\n",
       "      <th>age</th>\n",
       "      <th>money</th>\n",
       "      <th>sex</th>\n",
       "      <th>salary</th>\n",
       "      <th>Young</th>\n",
       "      <th>fname</th>\n",
       "      <th>fullname</th>\n",
       "      <th>bonus</th>\n",
       "    </tr>\n",
       "  </thead>\n",
       "  <tbody>\n",
       "    <tr>\n",
       "      <th>a</th>\n",
       "      <td>둘리</td>\n",
       "      <td>100</td>\n",
       "      <td>100.0</td>\n",
       "      <td>M</td>\n",
       "      <td>100</td>\n",
       "      <td>노인</td>\n",
       "      <td>공</td>\n",
       "      <td>공 둘리</td>\n",
       "      <td>30</td>\n",
       "    </tr>\n",
       "    <tr>\n",
       "      <th>b</th>\n",
       "      <td>길동</td>\n",
       "      <td>40</td>\n",
       "      <td>500000.0</td>\n",
       "      <td>M</td>\n",
       "      <td>100</td>\n",
       "      <td>노인</td>\n",
       "      <td>고</td>\n",
       "      <td>고 길동</td>\n",
       "      <td>17</td>\n",
       "    </tr>\n",
       "    <tr>\n",
       "      <th>c</th>\n",
       "      <td>또치</td>\n",
       "      <td>15</td>\n",
       "      <td>50.0</td>\n",
       "      <td>F</td>\n",
       "      <td>100</td>\n",
       "      <td>젊은이</td>\n",
       "      <td>김</td>\n",
       "      <td>김 또치</td>\n",
       "      <td>31</td>\n",
       "    </tr>\n",
       "    <tr>\n",
       "      <th>d</th>\n",
       "      <td>희동</td>\n",
       "      <td>3</td>\n",
       "      <td>NaN</td>\n",
       "      <td>M</td>\n",
       "      <td>100</td>\n",
       "      <td>젊은이</td>\n",
       "      <td>김</td>\n",
       "      <td>김 희동</td>\n",
       "      <td>34</td>\n",
       "    </tr>\n",
       "  </tbody>\n",
       "</table>\n",
       "</div>"
      ],
      "text/plain": [
       "  name  age     money sex  salary Young fname fullname  bonus\n",
       "a   둘리  100     100.0   M     100    노인     공     공 둘리     30\n",
       "b   길동   40  500000.0   M     100    노인     고     고 길동     17\n",
       "c   또치   15      50.0   F     100   젊은이     김     김 또치     31\n",
       "d   희동    3       NaN   M     100   젊은이     김     김 희동     34"
      ]
     },
     "execution_count": 31,
     "metadata": {},
     "output_type": "execute_result"
    }
   ],
   "source": [
    "df['bonus'] = df['salary'].apply(bonus)\n",
    "df"
   ]
  },
  {
   "cell_type": "markdown",
   "metadata": {},
   "source": [
    "## apply + lambda "
   ]
  },
  {
   "cell_type": "code",
   "execution_count": 32,
   "metadata": {},
   "outputs": [
    {
     "data": {
      "text/html": [
       "<div>\n",
       "<style scoped>\n",
       "    .dataframe tbody tr th:only-of-type {\n",
       "        vertical-align: middle;\n",
       "    }\n",
       "\n",
       "    .dataframe tbody tr th {\n",
       "        vertical-align: top;\n",
       "    }\n",
       "\n",
       "    .dataframe thead th {\n",
       "        text-align: right;\n",
       "    }\n",
       "</style>\n",
       "<table border=\"1\" class=\"dataframe\">\n",
       "  <thead>\n",
       "    <tr style=\"text-align: right;\">\n",
       "      <th></th>\n",
       "      <th>name</th>\n",
       "      <th>age</th>\n",
       "      <th>money</th>\n",
       "      <th>sex</th>\n",
       "      <th>salary</th>\n",
       "      <th>Young</th>\n",
       "      <th>fname</th>\n",
       "      <th>fullname</th>\n",
       "      <th>bonus</th>\n",
       "      <th>salary2019</th>\n",
       "    </tr>\n",
       "  </thead>\n",
       "  <tbody>\n",
       "    <tr>\n",
       "      <th>a</th>\n",
       "      <td>둘리</td>\n",
       "      <td>100</td>\n",
       "      <td>100.0</td>\n",
       "      <td>M</td>\n",
       "      <td>100</td>\n",
       "      <td>노인</td>\n",
       "      <td>공</td>\n",
       "      <td>공 둘리</td>\n",
       "      <td>30</td>\n",
       "      <td>110.0</td>\n",
       "    </tr>\n",
       "    <tr>\n",
       "      <th>b</th>\n",
       "      <td>길동</td>\n",
       "      <td>40</td>\n",
       "      <td>500000.0</td>\n",
       "      <td>M</td>\n",
       "      <td>100</td>\n",
       "      <td>노인</td>\n",
       "      <td>고</td>\n",
       "      <td>고 길동</td>\n",
       "      <td>17</td>\n",
       "      <td>110.0</td>\n",
       "    </tr>\n",
       "    <tr>\n",
       "      <th>c</th>\n",
       "      <td>또치</td>\n",
       "      <td>15</td>\n",
       "      <td>50.0</td>\n",
       "      <td>F</td>\n",
       "      <td>100</td>\n",
       "      <td>젊은이</td>\n",
       "      <td>김</td>\n",
       "      <td>김 또치</td>\n",
       "      <td>31</td>\n",
       "      <td>110.0</td>\n",
       "    </tr>\n",
       "    <tr>\n",
       "      <th>d</th>\n",
       "      <td>희동</td>\n",
       "      <td>3</td>\n",
       "      <td>NaN</td>\n",
       "      <td>M</td>\n",
       "      <td>100</td>\n",
       "      <td>젊은이</td>\n",
       "      <td>김</td>\n",
       "      <td>김 희동</td>\n",
       "      <td>34</td>\n",
       "      <td>110.0</td>\n",
       "    </tr>\n",
       "  </tbody>\n",
       "</table>\n",
       "</div>"
      ],
      "text/plain": [
       "  name  age     money sex  salary Young fname fullname  bonus  salary2019\n",
       "a   둘리  100     100.0   M     100    노인     공     공 둘리     30       110.0\n",
       "b   길동   40  500000.0   M     100    노인     고     고 길동     17       110.0\n",
       "c   또치   15      50.0   F     100   젊은이     김     김 또치     31       110.0\n",
       "d   희동    3       NaN   M     100   젊은이     김     김 희동     34       110.0"
      ]
     },
     "execution_count": 32,
     "metadata": {},
     "output_type": "execute_result"
    }
   ],
   "source": [
    "df['salary2019'] = df['salary'].apply(lambda x: x * 1.1)\n",
    "df"
   ]
  },
  {
   "cell_type": "code",
   "execution_count": 33,
   "metadata": {},
   "outputs": [
    {
     "data": {
      "text/html": [
       "<div>\n",
       "<style scoped>\n",
       "    .dataframe tbody tr th:only-of-type {\n",
       "        vertical-align: middle;\n",
       "    }\n",
       "\n",
       "    .dataframe tbody tr th {\n",
       "        vertical-align: top;\n",
       "    }\n",
       "\n",
       "    .dataframe thead th {\n",
       "        text-align: right;\n",
       "    }\n",
       "</style>\n",
       "<table border=\"1\" class=\"dataframe\">\n",
       "  <thead>\n",
       "    <tr style=\"text-align: right;\">\n",
       "      <th></th>\n",
       "      <th>name</th>\n",
       "      <th>age</th>\n",
       "      <th>money</th>\n",
       "      <th>sex</th>\n",
       "      <th>salary</th>\n",
       "      <th>Young</th>\n",
       "      <th>fname</th>\n",
       "      <th>fullname</th>\n",
       "      <th>bonus</th>\n",
       "      <th>salary2019</th>\n",
       "    </tr>\n",
       "  </thead>\n",
       "  <tbody>\n",
       "    <tr>\n",
       "      <th>a</th>\n",
       "      <td>둘리</td>\n",
       "      <td>100</td>\n",
       "      <td>100.0</td>\n",
       "      <td>M</td>\n",
       "      <td>100</td>\n",
       "      <td>노인</td>\n",
       "      <td>공</td>\n",
       "      <td>공 둘리</td>\n",
       "      <td>30</td>\n",
       "      <td>110</td>\n",
       "    </tr>\n",
       "    <tr>\n",
       "      <th>b</th>\n",
       "      <td>길동</td>\n",
       "      <td>40</td>\n",
       "      <td>500000.0</td>\n",
       "      <td>M</td>\n",
       "      <td>100</td>\n",
       "      <td>노인</td>\n",
       "      <td>고</td>\n",
       "      <td>고 길동</td>\n",
       "      <td>17</td>\n",
       "      <td>110</td>\n",
       "    </tr>\n",
       "    <tr>\n",
       "      <th>c</th>\n",
       "      <td>또치</td>\n",
       "      <td>15</td>\n",
       "      <td>50.0</td>\n",
       "      <td>F</td>\n",
       "      <td>100</td>\n",
       "      <td>젊은이</td>\n",
       "      <td>김</td>\n",
       "      <td>김 또치</td>\n",
       "      <td>31</td>\n",
       "      <td>110</td>\n",
       "    </tr>\n",
       "    <tr>\n",
       "      <th>d</th>\n",
       "      <td>희동</td>\n",
       "      <td>3</td>\n",
       "      <td>NaN</td>\n",
       "      <td>M</td>\n",
       "      <td>100</td>\n",
       "      <td>젊은이</td>\n",
       "      <td>김</td>\n",
       "      <td>김 희동</td>\n",
       "      <td>34</td>\n",
       "      <td>110</td>\n",
       "    </tr>\n",
       "  </tbody>\n",
       "</table>\n",
       "</div>"
      ],
      "text/plain": [
       "  name  age     money sex  salary Young fname fullname  bonus  salary2019\n",
       "a   둘리  100     100.0   M     100    노인     공     공 둘리     30         110\n",
       "b   길동   40  500000.0   M     100    노인     고     고 길동     17         110\n",
       "c   또치   15      50.0   F     100   젊은이     김     김 또치     31         110\n",
       "d   희동    3       NaN   M     100   젊은이     김     김 희동     34         110"
      ]
     },
     "execution_count": 33,
     "metadata": {},
     "output_type": "execute_result"
    }
   ],
   "source": [
    "df['salary2019'] = df['salary2019'].apply(int)\n",
    "df"
   ]
  },
  {
   "cell_type": "markdown",
   "metadata": {},
   "source": [
    "## row 추가하기"
   ]
  },
  {
   "cell_type": "code",
   "execution_count": 34,
   "metadata": {},
   "outputs": [
    {
     "data": {
      "text/html": [
       "<div>\n",
       "<style scoped>\n",
       "    .dataframe tbody tr th:only-of-type {\n",
       "        vertical-align: middle;\n",
       "    }\n",
       "\n",
       "    .dataframe tbody tr th {\n",
       "        vertical-align: top;\n",
       "    }\n",
       "\n",
       "    .dataframe thead th {\n",
       "        text-align: right;\n",
       "    }\n",
       "</style>\n",
       "<table border=\"1\" class=\"dataframe\">\n",
       "  <thead>\n",
       "    <tr style=\"text-align: right;\">\n",
       "      <th></th>\n",
       "      <th>age</th>\n",
       "      <th>name</th>\n",
       "    </tr>\n",
       "  </thead>\n",
       "  <tbody>\n",
       "    <tr>\n",
       "      <th>e</th>\n",
       "      <td>66</td>\n",
       "      <td>snoopy</td>\n",
       "    </tr>\n",
       "  </tbody>\n",
       "</table>\n",
       "</div>"
      ],
      "text/plain": [
       "   age    name\n",
       "e   66  snoopy"
      ]
     },
     "execution_count": 34,
     "metadata": {},
     "output_type": "execute_result"
    }
   ],
   "source": [
    "df2 = pd.DataFrame([{'name': 'snoopy', 'age': 66}], index = ['e'])\n",
    "df2"
   ]
  },
  {
   "cell_type": "code",
   "execution_count": 35,
   "metadata": {},
   "outputs": [
    {
     "name": "stderr",
     "output_type": "stream",
     "text": [
      "/Users/user/miniconda3/envs/py/lib/python3.7/site-packages/pandas/core/frame.py:6211: FutureWarning: Sorting because non-concatenation axis is not aligned. A future version\n",
      "of pandas will change to not sort by default.\n",
      "\n",
      "To accept the future behavior, pass 'sort=False'.\n",
      "\n",
      "To retain the current behavior and silence the warning, pass 'sort=True'.\n",
      "\n",
      "  sort=sort)\n"
     ]
    },
    {
     "data": {
      "text/html": [
       "<div>\n",
       "<style scoped>\n",
       "    .dataframe tbody tr th:only-of-type {\n",
       "        vertical-align: middle;\n",
       "    }\n",
       "\n",
       "    .dataframe tbody tr th {\n",
       "        vertical-align: top;\n",
       "    }\n",
       "\n",
       "    .dataframe thead th {\n",
       "        text-align: right;\n",
       "    }\n",
       "</style>\n",
       "<table border=\"1\" class=\"dataframe\">\n",
       "  <thead>\n",
       "    <tr style=\"text-align: right;\">\n",
       "      <th></th>\n",
       "      <th>Young</th>\n",
       "      <th>age</th>\n",
       "      <th>bonus</th>\n",
       "      <th>fname</th>\n",
       "      <th>fullname</th>\n",
       "      <th>money</th>\n",
       "      <th>name</th>\n",
       "      <th>salary</th>\n",
       "      <th>salary2019</th>\n",
       "      <th>sex</th>\n",
       "    </tr>\n",
       "  </thead>\n",
       "  <tbody>\n",
       "    <tr>\n",
       "      <th>a</th>\n",
       "      <td>노인</td>\n",
       "      <td>100</td>\n",
       "      <td>30.0</td>\n",
       "      <td>공</td>\n",
       "      <td>공 둘리</td>\n",
       "      <td>100.0</td>\n",
       "      <td>둘리</td>\n",
       "      <td>100.0</td>\n",
       "      <td>110.0</td>\n",
       "      <td>M</td>\n",
       "    </tr>\n",
       "    <tr>\n",
       "      <th>b</th>\n",
       "      <td>노인</td>\n",
       "      <td>40</td>\n",
       "      <td>17.0</td>\n",
       "      <td>고</td>\n",
       "      <td>고 길동</td>\n",
       "      <td>500000.0</td>\n",
       "      <td>길동</td>\n",
       "      <td>100.0</td>\n",
       "      <td>110.0</td>\n",
       "      <td>M</td>\n",
       "    </tr>\n",
       "    <tr>\n",
       "      <th>c</th>\n",
       "      <td>젊은이</td>\n",
       "      <td>15</td>\n",
       "      <td>31.0</td>\n",
       "      <td>김</td>\n",
       "      <td>김 또치</td>\n",
       "      <td>50.0</td>\n",
       "      <td>또치</td>\n",
       "      <td>100.0</td>\n",
       "      <td>110.0</td>\n",
       "      <td>F</td>\n",
       "    </tr>\n",
       "    <tr>\n",
       "      <th>d</th>\n",
       "      <td>젊은이</td>\n",
       "      <td>3</td>\n",
       "      <td>34.0</td>\n",
       "      <td>김</td>\n",
       "      <td>김 희동</td>\n",
       "      <td>NaN</td>\n",
       "      <td>희동</td>\n",
       "      <td>100.0</td>\n",
       "      <td>110.0</td>\n",
       "      <td>M</td>\n",
       "    </tr>\n",
       "    <tr>\n",
       "      <th>e</th>\n",
       "      <td>NaN</td>\n",
       "      <td>66</td>\n",
       "      <td>NaN</td>\n",
       "      <td>NaN</td>\n",
       "      <td>NaN</td>\n",
       "      <td>NaN</td>\n",
       "      <td>snoopy</td>\n",
       "      <td>NaN</td>\n",
       "      <td>NaN</td>\n",
       "      <td>NaN</td>\n",
       "    </tr>\n",
       "  </tbody>\n",
       "</table>\n",
       "</div>"
      ],
      "text/plain": [
       "  Young  age  bonus fname fullname     money    name  salary  salary2019  sex\n",
       "a    노인  100   30.0     공     공 둘리     100.0      둘리   100.0       110.0    M\n",
       "b    노인   40   17.0     고     고 길동  500000.0      길동   100.0       110.0    M\n",
       "c   젊은이   15   31.0     김     김 또치      50.0      또치   100.0       110.0    F\n",
       "d   젊은이    3   34.0     김     김 희동       NaN      희동   100.0       110.0    M\n",
       "e   NaN   66    NaN   NaN      NaN       NaN  snoopy     NaN         NaN  NaN"
      ]
     },
     "execution_count": 35,
     "metadata": {},
     "output_type": "execute_result"
    }
   ],
   "source": [
    "#defrecated\n",
    "df.append(df2)"
   ]
  },
  {
   "cell_type": "code",
   "execution_count": 36,
   "metadata": {},
   "outputs": [
    {
     "data": {
      "text/html": [
       "<div>\n",
       "<style scoped>\n",
       "    .dataframe tbody tr th:only-of-type {\n",
       "        vertical-align: middle;\n",
       "    }\n",
       "\n",
       "    .dataframe tbody tr th {\n",
       "        vertical-align: top;\n",
       "    }\n",
       "\n",
       "    .dataframe thead th {\n",
       "        text-align: right;\n",
       "    }\n",
       "</style>\n",
       "<table border=\"1\" class=\"dataframe\">\n",
       "  <thead>\n",
       "    <tr style=\"text-align: right;\">\n",
       "      <th></th>\n",
       "      <th>name</th>\n",
       "      <th>age</th>\n",
       "      <th>money</th>\n",
       "      <th>sex</th>\n",
       "      <th>salary</th>\n",
       "      <th>Young</th>\n",
       "      <th>fname</th>\n",
       "      <th>fullname</th>\n",
       "      <th>bonus</th>\n",
       "      <th>salary2019</th>\n",
       "    </tr>\n",
       "  </thead>\n",
       "  <tbody>\n",
       "    <tr>\n",
       "      <th>a</th>\n",
       "      <td>둘리</td>\n",
       "      <td>100</td>\n",
       "      <td>100.0</td>\n",
       "      <td>M</td>\n",
       "      <td>100.0</td>\n",
       "      <td>노인</td>\n",
       "      <td>공</td>\n",
       "      <td>공 둘리</td>\n",
       "      <td>30.0</td>\n",
       "      <td>110.0</td>\n",
       "    </tr>\n",
       "    <tr>\n",
       "      <th>b</th>\n",
       "      <td>길동</td>\n",
       "      <td>40</td>\n",
       "      <td>500000.0</td>\n",
       "      <td>M</td>\n",
       "      <td>100.0</td>\n",
       "      <td>노인</td>\n",
       "      <td>고</td>\n",
       "      <td>고 길동</td>\n",
       "      <td>17.0</td>\n",
       "      <td>110.0</td>\n",
       "    </tr>\n",
       "    <tr>\n",
       "      <th>c</th>\n",
       "      <td>또치</td>\n",
       "      <td>15</td>\n",
       "      <td>50.0</td>\n",
       "      <td>F</td>\n",
       "      <td>100.0</td>\n",
       "      <td>젊은이</td>\n",
       "      <td>김</td>\n",
       "      <td>김 또치</td>\n",
       "      <td>31.0</td>\n",
       "      <td>110.0</td>\n",
       "    </tr>\n",
       "    <tr>\n",
       "      <th>d</th>\n",
       "      <td>희동</td>\n",
       "      <td>3</td>\n",
       "      <td>NaN</td>\n",
       "      <td>M</td>\n",
       "      <td>100.0</td>\n",
       "      <td>젊은이</td>\n",
       "      <td>김</td>\n",
       "      <td>김 희동</td>\n",
       "      <td>34.0</td>\n",
       "      <td>110.0</td>\n",
       "    </tr>\n",
       "    <tr>\n",
       "      <th>e</th>\n",
       "      <td>snoopy</td>\n",
       "      <td>66</td>\n",
       "      <td>NaN</td>\n",
       "      <td>NaN</td>\n",
       "      <td>NaN</td>\n",
       "      <td>NaN</td>\n",
       "      <td>NaN</td>\n",
       "      <td>NaN</td>\n",
       "      <td>NaN</td>\n",
       "      <td>NaN</td>\n",
       "    </tr>\n",
       "  </tbody>\n",
       "</table>\n",
       "</div>"
      ],
      "text/plain": [
       "     name  age     money  sex  salary Young fname fullname  bonus  salary2019\n",
       "a      둘리  100     100.0    M   100.0    노인     공     공 둘리   30.0       110.0\n",
       "b      길동   40  500000.0    M   100.0    노인     고     고 길동   17.0       110.0\n",
       "c      또치   15      50.0    F   100.0   젊은이     김     김 또치   31.0       110.0\n",
       "d      희동    3       NaN    M   100.0   젊은이     김     김 희동   34.0       110.0\n",
       "e  snoopy   66       NaN  NaN     NaN   NaN   NaN      NaN    NaN         NaN"
      ]
     },
     "execution_count": 36,
     "metadata": {},
     "output_type": "execute_result"
    }
   ],
   "source": [
    "df.append(df2, sort=False)"
   ]
  },
  {
   "cell_type": "markdown",
   "metadata": {},
   "source": [
    "## group by \n",
    "- https://pandas.pydata.org/pandas-docs/stable/generated/pandas.DataFrame.groupby.html\n",
    "- http://pandas.pydata.org/pandas-docs/stable/groupby.html\n",
    "- 데이터를 나누고(split), 조작하고(apply), 합치는(combining) 작업을 수행"
   ]
  },
  {
   "cell_type": "code",
   "execution_count": 37,
   "metadata": {},
   "outputs": [
    {
     "data": {
      "text/html": [
       "<div>\n",
       "<style scoped>\n",
       "    .dataframe tbody tr th:only-of-type {\n",
       "        vertical-align: middle;\n",
       "    }\n",
       "\n",
       "    .dataframe tbody tr th {\n",
       "        vertical-align: top;\n",
       "    }\n",
       "\n",
       "    .dataframe thead th {\n",
       "        text-align: right;\n",
       "    }\n",
       "</style>\n",
       "<table border=\"1\" class=\"dataframe\">\n",
       "  <thead>\n",
       "    <tr style=\"text-align: right;\">\n",
       "      <th></th>\n",
       "      <th>name</th>\n",
       "      <th>age</th>\n",
       "      <th>money</th>\n",
       "      <th>sex</th>\n",
       "      <th>salary</th>\n",
       "      <th>Young</th>\n",
       "      <th>fname</th>\n",
       "      <th>fullname</th>\n",
       "      <th>bonus</th>\n",
       "      <th>salary2019</th>\n",
       "    </tr>\n",
       "  </thead>\n",
       "  <tbody>\n",
       "    <tr>\n",
       "      <th>a</th>\n",
       "      <td>둘리</td>\n",
       "      <td>100</td>\n",
       "      <td>100.0</td>\n",
       "      <td>M</td>\n",
       "      <td>100</td>\n",
       "      <td>노인</td>\n",
       "      <td>공</td>\n",
       "      <td>공 둘리</td>\n",
       "      <td>30</td>\n",
       "      <td>110</td>\n",
       "    </tr>\n",
       "    <tr>\n",
       "      <th>b</th>\n",
       "      <td>길동</td>\n",
       "      <td>40</td>\n",
       "      <td>500000.0</td>\n",
       "      <td>M</td>\n",
       "      <td>100</td>\n",
       "      <td>노인</td>\n",
       "      <td>고</td>\n",
       "      <td>고 길동</td>\n",
       "      <td>17</td>\n",
       "      <td>110</td>\n",
       "    </tr>\n",
       "    <tr>\n",
       "      <th>c</th>\n",
       "      <td>또치</td>\n",
       "      <td>15</td>\n",
       "      <td>50.0</td>\n",
       "      <td>F</td>\n",
       "      <td>100</td>\n",
       "      <td>젊은이</td>\n",
       "      <td>김</td>\n",
       "      <td>김 또치</td>\n",
       "      <td>31</td>\n",
       "      <td>110</td>\n",
       "    </tr>\n",
       "    <tr>\n",
       "      <th>d</th>\n",
       "      <td>희동</td>\n",
       "      <td>3</td>\n",
       "      <td>NaN</td>\n",
       "      <td>M</td>\n",
       "      <td>100</td>\n",
       "      <td>젊은이</td>\n",
       "      <td>김</td>\n",
       "      <td>김 희동</td>\n",
       "      <td>34</td>\n",
       "      <td>110</td>\n",
       "    </tr>\n",
       "  </tbody>\n",
       "</table>\n",
       "</div>"
      ],
      "text/plain": [
       "  name  age     money sex  salary Young fname fullname  bonus  salary2019\n",
       "a   둘리  100     100.0   M     100    노인     공     공 둘리     30         110\n",
       "b   길동   40  500000.0   M     100    노인     고     고 길동     17         110\n",
       "c   또치   15      50.0   F     100   젊은이     김     김 또치     31         110\n",
       "d   희동    3       NaN   M     100   젊은이     김     김 희동     34         110"
      ]
     },
     "execution_count": 37,
     "metadata": {},
     "output_type": "execute_result"
    }
   ],
   "source": [
    "df"
   ]
  },
  {
   "cell_type": "code",
   "execution_count": 38,
   "metadata": {},
   "outputs": [],
   "source": [
    "young_group = df.groupby('Young')"
   ]
  },
  {
   "cell_type": "code",
   "execution_count": 39,
   "metadata": {},
   "outputs": [
    {
     "data": {
      "text/plain": [
       "<pandas.core.groupby.groupby.DataFrameGroupBy object at 0x11727fc50>"
      ]
     },
     "execution_count": 39,
     "metadata": {},
     "output_type": "execute_result"
    }
   ],
   "source": [
    "young_group"
   ]
  },
  {
   "cell_type": "code",
   "execution_count": 40,
   "metadata": {},
   "outputs": [
    {
     "name": "stdout",
     "output_type": "stream",
     "text": [
      "{'노인': Index(['a', 'b'], dtype='object'), '젊은이': Index(['c', 'd'], dtype='object')}\n",
      "<class 'dict'>\n"
     ]
    }
   ],
   "source": [
    "print(young_group.groups)\n",
    "print(type(young_group.groups))"
   ]
  },
  {
   "cell_type": "code",
   "execution_count": 41,
   "metadata": {},
   "outputs": [
    {
     "data": {
      "text/plain": [
       "Index(['a', 'b'], dtype='object')"
      ]
     },
     "execution_count": 41,
     "metadata": {},
     "output_type": "execute_result"
    }
   ],
   "source": [
    "young_group.groups['노인']"
   ]
  },
  {
   "cell_type": "code",
   "execution_count": 42,
   "metadata": {},
   "outputs": [
    {
     "data": {
      "text/html": [
       "<div>\n",
       "<style scoped>\n",
       "    .dataframe tbody tr th:only-of-type {\n",
       "        vertical-align: middle;\n",
       "    }\n",
       "\n",
       "    .dataframe tbody tr th {\n",
       "        vertical-align: top;\n",
       "    }\n",
       "\n",
       "    .dataframe thead th {\n",
       "        text-align: right;\n",
       "    }\n",
       "</style>\n",
       "<table border=\"1\" class=\"dataframe\">\n",
       "  <thead>\n",
       "    <tr style=\"text-align: right;\">\n",
       "      <th></th>\n",
       "      <th>name</th>\n",
       "      <th>age</th>\n",
       "      <th>money</th>\n",
       "      <th>sex</th>\n",
       "      <th>salary</th>\n",
       "      <th>Young</th>\n",
       "      <th>fname</th>\n",
       "      <th>fullname</th>\n",
       "      <th>bonus</th>\n",
       "      <th>salary2019</th>\n",
       "    </tr>\n",
       "  </thead>\n",
       "  <tbody>\n",
       "    <tr>\n",
       "      <th>a</th>\n",
       "      <td>둘리</td>\n",
       "      <td>100</td>\n",
       "      <td>100.0</td>\n",
       "      <td>M</td>\n",
       "      <td>100</td>\n",
       "      <td>노인</td>\n",
       "      <td>공</td>\n",
       "      <td>공 둘리</td>\n",
       "      <td>30</td>\n",
       "      <td>110</td>\n",
       "    </tr>\n",
       "    <tr>\n",
       "      <th>b</th>\n",
       "      <td>길동</td>\n",
       "      <td>40</td>\n",
       "      <td>500000.0</td>\n",
       "      <td>M</td>\n",
       "      <td>100</td>\n",
       "      <td>노인</td>\n",
       "      <td>고</td>\n",
       "      <td>고 길동</td>\n",
       "      <td>17</td>\n",
       "      <td>110</td>\n",
       "    </tr>\n",
       "  </tbody>\n",
       "</table>\n",
       "</div>"
      ],
      "text/plain": [
       "  name  age     money sex  salary Young fname fullname  bonus  salary2019\n",
       "a   둘리  100     100.0   M     100    노인     공     공 둘리     30         110\n",
       "b   길동   40  500000.0   M     100    노인     고     고 길동     17         110"
      ]
     },
     "execution_count": 42,
     "metadata": {},
     "output_type": "execute_result"
    }
   ],
   "source": [
    "df.loc[young_group.groups['노인']]"
   ]
  },
  {
   "cell_type": "code",
   "execution_count": 43,
   "metadata": {},
   "outputs": [
    {
     "name": "stdout",
     "output_type": "stream",
     "text": [
      "노인 2\n"
     ]
    },
    {
     "data": {
      "text/html": [
       "<div>\n",
       "<style scoped>\n",
       "    .dataframe tbody tr th:only-of-type {\n",
       "        vertical-align: middle;\n",
       "    }\n",
       "\n",
       "    .dataframe tbody tr th {\n",
       "        vertical-align: top;\n",
       "    }\n",
       "\n",
       "    .dataframe thead th {\n",
       "        text-align: right;\n",
       "    }\n",
       "</style>\n",
       "<table border=\"1\" class=\"dataframe\">\n",
       "  <thead>\n",
       "    <tr style=\"text-align: right;\">\n",
       "      <th></th>\n",
       "      <th>name</th>\n",
       "      <th>age</th>\n",
       "      <th>money</th>\n",
       "      <th>sex</th>\n",
       "      <th>salary</th>\n",
       "      <th>Young</th>\n",
       "      <th>fname</th>\n",
       "      <th>fullname</th>\n",
       "      <th>bonus</th>\n",
       "      <th>salary2019</th>\n",
       "    </tr>\n",
       "  </thead>\n",
       "  <tbody>\n",
       "    <tr>\n",
       "      <th>a</th>\n",
       "      <td>둘리</td>\n",
       "      <td>100</td>\n",
       "      <td>100.0</td>\n",
       "      <td>M</td>\n",
       "      <td>100</td>\n",
       "      <td>노인</td>\n",
       "      <td>공</td>\n",
       "      <td>공 둘리</td>\n",
       "      <td>30</td>\n",
       "      <td>110</td>\n",
       "    </tr>\n",
       "    <tr>\n",
       "      <th>b</th>\n",
       "      <td>길동</td>\n",
       "      <td>40</td>\n",
       "      <td>500000.0</td>\n",
       "      <td>M</td>\n",
       "      <td>100</td>\n",
       "      <td>노인</td>\n",
       "      <td>고</td>\n",
       "      <td>고 길동</td>\n",
       "      <td>17</td>\n",
       "      <td>110</td>\n",
       "    </tr>\n",
       "  </tbody>\n",
       "</table>\n",
       "</div>"
      ],
      "text/plain": [
       "  name  age     money sex  salary Young fname fullname  bonus  salary2019\n",
       "a   둘리  100     100.0   M     100    노인     공     공 둘리     30         110\n",
       "b   길동   40  500000.0   M     100    노인     고     고 길동     17         110"
      ]
     },
     "metadata": {},
     "output_type": "display_data"
    },
    {
     "name": "stdout",
     "output_type": "stream",
     "text": [
      "젊은이 2\n"
     ]
    },
    {
     "data": {
      "text/html": [
       "<div>\n",
       "<style scoped>\n",
       "    .dataframe tbody tr th:only-of-type {\n",
       "        vertical-align: middle;\n",
       "    }\n",
       "\n",
       "    .dataframe tbody tr th {\n",
       "        vertical-align: top;\n",
       "    }\n",
       "\n",
       "    .dataframe thead th {\n",
       "        text-align: right;\n",
       "    }\n",
       "</style>\n",
       "<table border=\"1\" class=\"dataframe\">\n",
       "  <thead>\n",
       "    <tr style=\"text-align: right;\">\n",
       "      <th></th>\n",
       "      <th>name</th>\n",
       "      <th>age</th>\n",
       "      <th>money</th>\n",
       "      <th>sex</th>\n",
       "      <th>salary</th>\n",
       "      <th>Young</th>\n",
       "      <th>fname</th>\n",
       "      <th>fullname</th>\n",
       "      <th>bonus</th>\n",
       "      <th>salary2019</th>\n",
       "    </tr>\n",
       "  </thead>\n",
       "  <tbody>\n",
       "    <tr>\n",
       "      <th>c</th>\n",
       "      <td>또치</td>\n",
       "      <td>15</td>\n",
       "      <td>50.0</td>\n",
       "      <td>F</td>\n",
       "      <td>100</td>\n",
       "      <td>젊은이</td>\n",
       "      <td>김</td>\n",
       "      <td>김 또치</td>\n",
       "      <td>31</td>\n",
       "      <td>110</td>\n",
       "    </tr>\n",
       "    <tr>\n",
       "      <th>d</th>\n",
       "      <td>희동</td>\n",
       "      <td>3</td>\n",
       "      <td>NaN</td>\n",
       "      <td>M</td>\n",
       "      <td>100</td>\n",
       "      <td>젊은이</td>\n",
       "      <td>김</td>\n",
       "      <td>김 희동</td>\n",
       "      <td>34</td>\n",
       "      <td>110</td>\n",
       "    </tr>\n",
       "  </tbody>\n",
       "</table>\n",
       "</div>"
      ],
      "text/plain": [
       "  name  age  money sex  salary Young fname fullname  bonus  salary2019\n",
       "c   또치   15   50.0   F     100   젊은이     김     김 또치     31         110\n",
       "d   희동    3    NaN   M     100   젊은이     김     김 희동     34         110"
      ]
     },
     "metadata": {},
     "output_type": "display_data"
    }
   ],
   "source": [
    "for key, group in young_group:\n",
    "    print(key, len(group))\n",
    "    display(group)\n",
    "    # print(group)"
   ]
  },
  {
   "cell_type": "markdown",
   "metadata": {},
   "source": [
    "### count "
   ]
  },
  {
   "cell_type": "code",
   "execution_count": 44,
   "metadata": {},
   "outputs": [
    {
     "data": {
      "text/plain": [
       "Young\n",
       "노인     2\n",
       "젊은이    2\n",
       "dtype: int64"
      ]
     },
     "execution_count": 44,
     "metadata": {},
     "output_type": "execute_result"
    }
   ],
   "source": [
    "young_group.size()"
   ]
  },
  {
   "cell_type": "code",
   "execution_count": 45,
   "metadata": {},
   "outputs": [
    {
     "data": {
      "text/html": [
       "<div>\n",
       "<style scoped>\n",
       "    .dataframe tbody tr th:only-of-type {\n",
       "        vertical-align: middle;\n",
       "    }\n",
       "\n",
       "    .dataframe tbody tr th {\n",
       "        vertical-align: top;\n",
       "    }\n",
       "\n",
       "    .dataframe thead th {\n",
       "        text-align: right;\n",
       "    }\n",
       "</style>\n",
       "<table border=\"1\" class=\"dataframe\">\n",
       "  <thead>\n",
       "    <tr style=\"text-align: right;\">\n",
       "      <th></th>\n",
       "      <th>나이별 통계</th>\n",
       "    </tr>\n",
       "    <tr>\n",
       "      <th>Young</th>\n",
       "      <th></th>\n",
       "    </tr>\n",
       "  </thead>\n",
       "  <tbody>\n",
       "    <tr>\n",
       "      <th>노인</th>\n",
       "      <td>2</td>\n",
       "    </tr>\n",
       "    <tr>\n",
       "      <th>젊은이</th>\n",
       "      <td>2</td>\n",
       "    </tr>\n",
       "  </tbody>\n",
       "</table>\n",
       "</div>"
      ],
      "text/plain": [
       "       나이별 통계\n",
       "Young        \n",
       "노인          2\n",
       "젊은이         2"
      ]
     },
     "execution_count": 45,
     "metadata": {},
     "output_type": "execute_result"
    }
   ],
   "source": [
    "pd.DataFrame({'나이별 통계': young_group.size()})"
   ]
  },
  {
   "cell_type": "code",
   "execution_count": 46,
   "metadata": {},
   "outputs": [
    {
     "data": {
      "text/html": [
       "<div>\n",
       "<style scoped>\n",
       "    .dataframe tbody tr th:only-of-type {\n",
       "        vertical-align: middle;\n",
       "    }\n",
       "\n",
       "    .dataframe tbody tr th {\n",
       "        vertical-align: top;\n",
       "    }\n",
       "\n",
       "    .dataframe thead th {\n",
       "        text-align: right;\n",
       "    }\n",
       "</style>\n",
       "<table border=\"1\" class=\"dataframe\">\n",
       "  <thead>\n",
       "    <tr style=\"text-align: right;\">\n",
       "      <th></th>\n",
       "      <th>age</th>\n",
       "      <th>money</th>\n",
       "      <th>salary</th>\n",
       "      <th>bonus</th>\n",
       "      <th>salary2019</th>\n",
       "    </tr>\n",
       "    <tr>\n",
       "      <th>Young</th>\n",
       "      <th></th>\n",
       "      <th></th>\n",
       "      <th></th>\n",
       "      <th></th>\n",
       "      <th></th>\n",
       "    </tr>\n",
       "  </thead>\n",
       "  <tbody>\n",
       "    <tr>\n",
       "      <th>노인</th>\n",
       "      <td>70.0</td>\n",
       "      <td>250050.0</td>\n",
       "      <td>100.0</td>\n",
       "      <td>23.5</td>\n",
       "      <td>110.0</td>\n",
       "    </tr>\n",
       "    <tr>\n",
       "      <th>젊은이</th>\n",
       "      <td>9.0</td>\n",
       "      <td>50.0</td>\n",
       "      <td>100.0</td>\n",
       "      <td>32.5</td>\n",
       "      <td>110.0</td>\n",
       "    </tr>\n",
       "  </tbody>\n",
       "</table>\n",
       "</div>"
      ],
      "text/plain": [
       "        age     money  salary  bonus  salary2019\n",
       "Young                                           \n",
       "노인     70.0  250050.0   100.0   23.5       110.0\n",
       "젊은이     9.0      50.0   100.0   32.5       110.0"
      ]
     },
     "execution_count": 46,
     "metadata": {},
     "output_type": "execute_result"
    }
   ],
   "source": [
    "young_group.mean()"
   ]
  },
  {
   "cell_type": "code",
   "execution_count": null,
   "metadata": {},
   "outputs": [],
   "source": []
  }
 ],
 "metadata": {
  "kernelspec": {
   "display_name": "Python 3",
   "language": "python",
   "name": "python3"
  },
  "language_info": {
   "codemirror_mode": {
    "name": "ipython",
    "version": 3
   },
   "file_extension": ".py",
   "mimetype": "text/x-python",
   "name": "python",
   "nbconvert_exporter": "python",
   "pygments_lexer": "ipython3",
   "version": "3.6.8"
  }
 },
 "nbformat": 4,
 "nbformat_minor": 2
}

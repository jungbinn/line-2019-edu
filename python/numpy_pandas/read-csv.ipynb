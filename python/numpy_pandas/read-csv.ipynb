{
  "cells": [
    {
      "metadata": {
        "collapsed": true
      },
      "cell_type": "markdown",
      "source": "# read csv"
    },
    {
      "metadata": {
        "trusted": false
      },
      "cell_type": "code",
      "source": "filename = \"./data/data-header.csv\"\ndef my_read_csv(filename, as_pd=False):\n    import pandas as pd\n    with open(filename) as fp:\n        data = fp.read().split('\\n')\n        header = data[0].split(\",\")\n        data = data[1:]\n        dlist = [dict(zip(header, item.split(','))) for item in data]\n    if as_pd:\n        return pd.DataFrame(dlist)\n    else:\n        return dlist\n\nmy_read_csv(filename, True)",
      "execution_count": 10,
      "outputs": [
        {
          "data": {
            "text/html": "<div>\n<style>\n    .dataframe thead tr:only-child th {\n        text-align: right;\n    }\n\n    .dataframe thead th {\n        text-align: left;\n    }\n\n    .dataframe tbody tr th {\n        vertical-align: top;\n    }\n</style>\n<table border=\"1\" class=\"dataframe\">\n  <thead>\n    <tr style=\"text-align: right;\">\n      <th></th>\n      <th>age</th>\n      <th>money</th>\n      <th>name</th>\n      <th>sex</th>\n    </tr>\n  </thead>\n  <tbody>\n    <tr>\n      <th>0</th>\n      <td>100</td>\n      <td>100</td>\n      <td>둘리</td>\n      <td>M</td>\n    </tr>\n    <tr>\n      <th>1</th>\n      <td>40</td>\n      <td>500000</td>\n      <td>길동</td>\n      <td>M</td>\n    </tr>\n    <tr>\n      <th>2</th>\n      <td>15</td>\n      <td>50</td>\n      <td>또치</td>\n      <td>F</td>\n    </tr>\n    <tr>\n      <th>3</th>\n      <td>3</td>\n      <td></td>\n      <td>희동</td>\n      <td>M</td>\n    </tr>\n  </tbody>\n</table>\n</div>",
            "text/plain": "   age   money name sex\n0  100     100   둘리   M\n1   40  500000   길동   M\n2   15      50   또치   F\n3    3           희동   M"
          },
          "execution_count": 10,
          "metadata": {},
          "output_type": "execute_result"
        }
      ]
    },
    {
      "metadata": {
        "trusted": false
      },
      "cell_type": "code",
      "source": "",
      "execution_count": null,
      "outputs": []
    }
  ],
  "metadata": {
    "kernelspec": {
      "name": "python36",
      "display_name": "Python 3.6",
      "language": "python"
    },
    "language_info": {
      "mimetype": "text/x-python",
      "nbconvert_exporter": "python",
      "name": "python",
      "pygments_lexer": "ipython3",
      "version": "3.6.6",
      "file_extension": ".py",
      "codemirror_mode": {
        "version": 3,
        "name": "ipython"
      }
    }
  },
  "nbformat": 4,
  "nbformat_minor": 2
}